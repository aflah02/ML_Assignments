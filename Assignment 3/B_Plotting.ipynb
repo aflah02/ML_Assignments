{
  "cells": [
    {
      "cell_type": "code",
      "execution_count": 1,
      "metadata": {
        "id": "npFemIWusYQi"
      },
      "outputs": [],
      "source": [
        "import numpy as np"
      ]
    },
    {
      "cell_type": "code",
      "execution_count": 6,
      "metadata": {
        "id": "oTrTMpTwtLXd"
      },
      "outputs": [],
      "source": [
        "class AffineTransformationLayer:\n",
        "    def __init__(self, input_size, output_size, weight_initializer, random_init_scaler=True):\n",
        "        self.input_size = input_size\n",
        "        self.output_size = output_size\n",
        "        if weight_initializer == 'zeros':\n",
        "            self.weights = np.zeros((input_size, output_size))\n",
        "            self.bias = np.zeros((1, output_size))\n",
        "        elif weight_initializer == 'random_init':\n",
        "            self.weights = np.random.random((input_size, output_size))\n",
        "            self.bias = np.random.random((1, output_size))\n",
        "            if random_init_scaler:\n",
        "                self.weights = self.weights / np.sqrt(input_size + output_size)\n",
        "                self.bias = self.bias / np.sqrt(input_size + output_size)\n",
        "        elif weight_initializer == 'normal_init':\n",
        "            self.weights = np.random.normal(0, 0.1, (input_size, output_size))\n",
        "            self.bias = np.random.normal(0, 0.1, (1, output_size))\n",
        "\n",
        "    def forward(self, input):\n",
        "        self.input = input\n",
        "        return np.dot(input, self.weights) + self.bias\n",
        "\n",
        "    def backward(self, output_error, learning_rate):\n",
        "        input_error = np.dot(output_error, self.weights.T)\n",
        "        weights_error = np.dot(self.input.T, output_error)\n",
        "        self.weights -= learning_rate * weights_error\n",
        "        self.bias -= learning_rate * output_error\n",
        "        return input_error"
      ]
    },
    {
      "cell_type": "code",
      "execution_count": 7,
      "metadata": {
        "id": "E6nSYAB2sam3"
      },
      "outputs": [],
      "source": [
        "class ActivationLayer:\n",
        "    def __init__(self, activation, activation_prime):\n",
        "        self.activation = activation\n",
        "        self.activation_prime = activation_prime\n",
        "    \n",
        "    def forward(self, input):\n",
        "        self.input = input\n",
        "        return self.activation(input)\n",
        "    \n",
        "    def backward(self, output_error, learning_rate):\n",
        "        return output_error * self.activation_prime(self.input)"
      ]
    },
    {
      "cell_type": "code",
      "execution_count": 8,
      "metadata": {
        "id": "hl8LxP1lAEiN"
      },
      "outputs": [],
      "source": [
        "class Reshaping_Layer:\n",
        "    def __init__(self, input_shape):\n",
        "        self.input_shape = input_shape\n",
        "\n",
        "    def forward(self, input):\n",
        "        return np.reshape(input, (1, -1))\n",
        "    \n",
        "    def backward(self, output_error, learning_rate):\n",
        "        return np.reshape(output_error, self.input_shape)"
      ]
    },
    {
      "cell_type": "code",
      "execution_count": 9,
      "metadata": {
        "id": "RQeuIfkK3vyl"
      },
      "outputs": [],
      "source": [
        "class SoftmaxLayer:\n",
        "    def __init__(self, input_size):\n",
        "        self.input_size = input_size\n",
        "    \n",
        "    def forward(self, input):\n",
        "        self.input = input\n",
        "        tmp = np.exp(input)\n",
        "        self.output = tmp / np.sum(tmp)\n",
        "        return self.output\n",
        "    \n",
        "    def backward(self, output_error, learning_rate):\n",
        "        input_error = np.zeros(output_error.shape)\n",
        "        out = np.tile(self.output.T, self.input_size)\n",
        "        return self.output * np.dot(output_error, np.identity(self.input_size) - out)"
      ]
    },
    {
      "cell_type": "code",
      "execution_count": 10,
      "metadata": {
        "id": "LuPbn70Wt8Q7"
      },
      "outputs": [],
      "source": [
        "def sigmoid(x):\n",
        "    return 1 / (1 + np.exp(-x))\n",
        "\n",
        "def sigmoid_prime(x):\n",
        "    return sigmoid(x) * (1 - sigmoid(x))\n",
        "\n",
        "def tanh(x):\n",
        "    return np.tanh(x)\n",
        "\n",
        "def tanh_prime(x):\n",
        "    return 1 - np.tanh(x)**2\n",
        "\n",
        "def relu(x):\n",
        "    return np.maximum(x, 0)\n",
        "\n",
        "def relu_prime(x):\n",
        "    return np.array(x >= 0).astype('int')\n",
        "\n",
        "def leaky_relu(x):\n",
        "    return np.maximum(x, 0.01 * x)\n",
        "\n",
        "def leaky_relu_prime(x):\n",
        "    return np.array(x >= 0).astype('int') + 0.01 * np.array(x < 0).astype('int')\n",
        "\n",
        "def linear(x):\n",
        "    return x\n",
        "\n",
        "def linear_prime(x):\n",
        "    return np.ones(x.shape)"
      ]
    },
    {
      "cell_type": "code",
      "execution_count": 11,
      "metadata": {
        "id": "rXY7jkUzuqEk"
      },
      "outputs": [],
      "source": [
        "def mse(y_true, y_pred):\n",
        "    return np.mean(np.power(y_true - y_pred, 2))\n",
        "\n",
        "def mse_prime(y_true, y_pred):\n",
        "    return 2 * (y_pred - y_true) / y_pred.size\n",
        "\n",
        "def mae(y_true, y_pred):\n",
        "    return np.mean(np.abs(y_true - y_pred))\n",
        "\n",
        "def mae_prime(y_true, y_pred):\n",
        "    return np.sign(y_pred - y_true) / y_pred.size\n",
        "\n",
        "def cross_entropy(y_true, y_pred):\n",
        "    return -np.sum(y_true * np.log(y_pred))\n",
        "\n",
        "def cross_entropy_prime(y_true, y_pred):\n",
        "    return -y_true / y_pred"
      ]
    },
    {
      "cell_type": "code",
      "execution_count": 8,
      "metadata": {
        "colab": {
          "base_uri": "https://localhost:8080/",
          "height": 51
        },
        "id": "-whGNp8Joaur",
        "outputId": "23690d5d-f451-4fd3-b87a-d5c416ac2d0b"
      },
      "outputs": [],
      "source": [
        "from utils import *\n",
        "import matplotlib.pyplot as plt\n",
        "from keras.utils import to_categorical\n",
        "from sklearn.model_selection import train_test_split\n",
        "\n",
        "x_train, y_train, x_test, y_test = load_mnist()\n",
        "\n",
        "# Normalize the images.\n",
        "x_train = x_train.astype('float32') / 255\n",
        "x_test = x_test.astype('float32') / 255\n",
        "\n",
        "x_train = x_train[:10000]\n",
        "y_train = y_train[:10000]\n",
        "\n",
        "# Flatten the images.\n",
        "x_train = x_train.reshape((-1, 784))\n",
        "x_test = x_test.reshape((-1, 784))\n",
        "\n",
        "# One hot encode the labels.\n",
        "y_train = to_categorical(y_train)\n",
        "y_test = to_categorical(y_test)\n",
        "\n",
        "# Split the train data into train and validation sets.\n",
        "x_train, x_val, y_train, y_val = train_test_split(x_train, y_train, test_size=0.2)"
      ]
    },
    {
      "cell_type": "code",
      "execution_count": 4,
      "metadata": {},
      "outputs": [],
      "source": [
        "class NeuralNetwork:\n",
        "    def __init__(self, n_inputs,  input_shape, hidden_layer_sizes, n_outs, activation_fn, activation_fn_derivative, weight_initialization, loss, loss_prime):\n",
        "        self.network = []\n",
        "        self.network.append(Reshaping_Layer(input_shape))\n",
        "        # Input To Hidden\n",
        "        self.network.append(AffineTransformationLayer(n_inputs, hidden_layer_sizes[0], weight_initialization))\n",
        "        self.network.append(ActivationLayer(activation_fn, activation_fn_derivative))\n",
        "        # Hidden To Hidden\n",
        "        for i in range(len(hidden_layer_sizes) - 1):\n",
        "            self.network.append(AffineTransformationLayer(hidden_layer_sizes[i], hidden_layer_sizes[i+1], weight_initialization))\n",
        "            self.network.append(ActivationLayer(activation_fn, activation_fn_derivative))\n",
        "        # Hidden To Output\n",
        "        self.network.append(AffineTransformationLayer(hidden_layer_sizes[-1], n_outs, weight_initialization))\n",
        "        self.network.append(SoftmaxLayer(n_outs))\n",
        "        self.loss = loss\n",
        "        self.loss_prime = loss_prime\n",
        "        self.train_loss = []\n",
        "        self.val_loss = []\n",
        "    \n",
        "    def predict(self, x):\n",
        "        for layer in self.network:\n",
        "            x = layer.forward(x)\n",
        "        return x\n",
        "    \n",
        "    def fit(self, x_train, y_train, x_valid, y_valid, epochs=1000, learning_rate=0.1, batch_size=32, early_stopping=True, patience=10, verbose=True):\n",
        "        x_batches_train = np.array_split(x_train, len(x_train)/ batch_size)\n",
        "        y_batches_train = np.array_split(y_train, len(y_train)/ batch_size)\n",
        "        for epoch in range(epochs):\n",
        "            error = 0\n",
        "            error_val = 0\n",
        "            for x_train, y_train in zip(x_batches_train,y_batches_train):\n",
        "                for x, y_true in zip(x_train, y_train):\n",
        "\n",
        "                    output = x\n",
        "                    \n",
        "                    output = self.forward(output)\n",
        "\n",
        "                    error += self.loss(y_true, output)\n",
        "\n",
        "                    output_error = self.loss_prime(y_true, output)\n",
        "\n",
        "                    self.backward(output_error, learning_rate)\n",
        "\n",
        "                    error /= len(x_train)\n",
        "\n",
        "            error_val = sum([self.loss(y, self.predict(x)) for x, y in zip(x_valid, y_valid)]) / len(x_valid) \n",
        "\n",
        "            self.train_loss.append(error)\n",
        "            self.val_loss.append(error_val)\n",
        "\n",
        "            if early_stopping:\n",
        "                if epoch > patience:\n",
        "                    if self.train_loss[-1] > np.mean(self.val_loss[-(patience+1):-1]):\n",
        "                        print('Early Stopping')\n",
        "                        break\n",
        "            if verbose:\n",
        "                if epoch % 10 == 0:\n",
        "                    print(f\"Epoch: {epoch}, Training Loss: {error}, Validation Loss: {error_val}\")\n",
        "\n",
        "    def forward(self, x):\n",
        "        for layer in self.network:\n",
        "            x = layer.forward(x)\n",
        "        return x\n",
        "\n",
        "    def backward(self, output_error, learning_rate):\n",
        "        for layer in reversed(self.network):\n",
        "            output_error = layer.backward(output_error, learning_rate)\n",
        "\n",
        "    def predict_proba(self, x):\n",
        "        return self.predict(x)\n",
        "\n",
        "    def score(self, x, y):\n",
        "        cnt = 0\n",
        "        for x_v, y_v in zip(x,y):\n",
        "            op = self.predict(x_v)\n",
        "            if (np.argmax(op) == np.argmax(y_v)):\n",
        "                cnt+=1\n",
        "        return cnt/y.shape[0]"
      ]
    },
    {
      "cell_type": "code",
      "execution_count": 2,
      "metadata": {},
      "outputs": [],
      "source": [
        "def save_model(model, filename):\n",
        "    import pickle\n",
        "    with open(f\"Model_Saves/{filename}\", 'wb') as f:\n",
        "        pickle.dump(model, f)\n",
        "\n",
        "def load_model(filename):\n",
        "    import pickle\n",
        "    with open(f\"Model_Saves/{filename}\", 'rb') as f:\n",
        "        return pickle.load(f)"
      ]
    },
    {
      "cell_type": "code",
      "execution_count": 11,
      "metadata": {},
      "outputs": [
        {
          "data": {
            "text/plain": [
              "((8000, 784), (8000, 10), (2000, 784), (2000, 10))"
            ]
          },
          "execution_count": 11,
          "metadata": {},
          "output_type": "execute_result"
        }
      ],
      "source": [
        "x_train.shape, y_train.shape, x_val.shape, y_val.shape"
      ]
    },
    {
      "cell_type": "code",
      "execution_count": 12,
      "metadata": {},
      "outputs": [],
      "source": [
        "activation_fns = [relu, sigmoid, tanh, leaky_relu, linear]\n",
        "activation_fns_prime = [relu_prime, sigmoid_prime, tanh_prime, leaky_relu_prime, linear_prime]"
      ]
    },
    {
      "cell_type": "code",
      "execution_count": 14,
      "metadata": {},
      "outputs": [
        {
          "name": "stdout",
          "output_type": "stream",
          "text": [
            "Activation Function: relu\n",
            "Epoch: 0, Training Loss: 0.0006926952076625672, Validation Loss: 0.08987083738288432\n",
            "Epoch: 10, Training Loss: 0.0004886420801814411, Validation Loss: 0.08025524917728491\n",
            "Epoch: 20, Training Loss: 0.0002910827704302052, Validation Loss: 0.04729564473916273\n",
            "Epoch: 30, Training Loss: 0.00022309467777434735, Validation Loss: 0.026681221408507413\n",
            "Epoch: 40, Training Loss: 0.0002483548818066395, Validation Loss: 0.020125978557046443\n",
            "Epoch: 50, Training Loss: 0.00019106551210929955, Validation Loss: 0.017290346330173952\n",
            "Epoch: 60, Training Loss: 0.00014229941190942362, Validation Loss: 0.01581425884628157\n",
            "Epoch: 70, Training Loss: 0.00011446359812789067, Validation Loss: 0.014881210616549763\n",
            "Epoch: 80, Training Loss: 0.00010140715103460584, Validation Loss: 0.0142126615987349\n",
            "Epoch: 90, Training Loss: 9.370510232731414e-05, Validation Loss: 0.013680512473825214\n",
            "Accuracy: 0.9163\n",
            "Activation Function: sigmoid\n",
            "Epoch: 0, Training Loss: 0.0007028043590856087, Validation Loss: 0.09033084009539188\n",
            "Epoch: 10, Training Loss: 0.0006870606705666409, Validation Loss: 0.08997198009203561\n",
            "Epoch: 20, Training Loss: 0.0006857608353638025, Validation Loss: 0.08993751335984543\n",
            "Epoch: 30, Training Loss: 0.0006855642315335144, Validation Loss: 0.08993261454837514\n",
            "Epoch: 40, Training Loss: 0.0006855055788113024, Validation Loss: 0.08993131042969929\n",
            "Epoch: 50, Training Loss: 0.0006854808599263695, Validation Loss: 0.08993061316175546\n",
            "Epoch: 60, Training Loss: 0.0006854658901593149, Validation Loss: 0.0899300322500692\n",
            "Epoch: 70, Training Loss: 0.0006854537242472195, Validation Loss: 0.0899294728801845\n",
            "Epoch: 80, Training Loss: 0.0006854423581642934, Validation Loss: 0.08992891605566412\n",
            "Epoch: 90, Training Loss: 0.0006854312139643406, Validation Loss: 0.08992835794203721\n",
            "Accuracy: 0.1135\n",
            "Activation Function: tanh\n",
            "Epoch: 0, Training Loss: 0.0006897302587329442, Validation Loss: 0.0886117196136765\n",
            "Epoch: 10, Training Loss: 0.0003197364866051921, Validation Loss: 0.064729394470559\n",
            "Epoch: 20, Training Loss: 0.00018152332983309414, Validation Loss: 0.04256412630087584\n",
            "Epoch: 30, Training Loss: 0.00022917305214622017, Validation Loss: 0.02910468542299548\n",
            "Epoch: 40, Training Loss: 0.00025443253695855533, Validation Loss: 0.022134685528934855\n",
            "Epoch: 50, Training Loss: 0.0002464663768961053, Validation Loss: 0.018734626731456677\n",
            "Epoch: 60, Training Loss: 0.00023198805587594997, Validation Loss: 0.016800671482719822\n",
            "Epoch: 70, Training Loss: 0.00021737177753660357, Validation Loss: 0.015547892733599675\n",
            "Epoch: 80, Training Loss: 0.00020328791200093389, Validation Loss: 0.01465901425916929\n",
            "Epoch: 90, Training Loss: 0.0001896748515675393, Validation Loss: 0.013989888894710376\n",
            "Accuracy: 0.9193\n",
            "Activation Function: leaky_relu\n",
            "Epoch: 0, Training Loss: 0.0006743239911517778, Validation Loss: 0.08979612747593203\n",
            "Epoch: 10, Training Loss: 0.0004024039266254769, Validation Loss: 0.07099536056408887\n",
            "Epoch: 20, Training Loss: 0.0002179885470383659, Validation Loss: 0.03642981299121815\n",
            "Epoch: 30, Training Loss: 0.0003146168685909974, Validation Loss: 0.02313747886618535\n",
            "Epoch: 40, Training Loss: 0.0002918089960807881, Validation Loss: 0.01879637056616241\n",
            "Epoch: 50, Training Loss: 0.0002480701587689011, Validation Loss: 0.01683037247831594\n",
            "Epoch: 60, Training Loss: 0.00020860700805482924, Validation Loss: 0.01567966582472838\n",
            "Epoch: 70, Training Loss: 0.00017528010944164795, Validation Loss: 0.014890353437518553\n",
            "Epoch: 80, Training Loss: 0.00014732761701407576, Validation Loss: 0.014320205966779121\n",
            "Epoch: 90, Training Loss: 0.00012695758202570898, Validation Loss: 0.013858240229925198\n"
          ]
        }
      ],
      "source": [
        "for activation_fn, activation_fn_prime in zip(activation_fns, activation_fns_prime):\n",
        "    print(f\"Activation Function: {activation_fn.__name__}\")\n",
        "    model = NeuralNetwork(784, (28,28), [256,128,64,32], 10, activation_fn, activation_fn_prime, 'normal_init', mse, mse_prime)\n",
        "    model.fit(x_train, y_train, x_val, y_val, epochs=100, learning_rate=0.001, batch_size=128, early_stopping=True, patience=10, verbose=True)\n",
        "    print(f\"Accuracy: {model.score(x_test, y_test)}\")\n",
        "    save_model(model, f\"model_{activation_fn.__name__}.pkl\")"
      ]
    },
    {
      "cell_type": "code",
      "execution_count": 13,
      "metadata": {},
      "outputs": [],
      "source": [
        "initialization_fns = ['zeros', 'normal_init', 'random_init']"
      ]
    },
    {
      "cell_type": "code",
      "execution_count": 14,
      "metadata": {},
      "outputs": [
        {
          "name": "stdout",
          "output_type": "stream",
          "text": [
            "Initialization Function: zeros\n",
            "Epoch: 0, Training Loss: 0.000703199131626078, Validation Loss: 0.08999940704711566\n",
            "Epoch: 10, Training Loss: 0.0007038801296823434, Validation Loss: 0.08999536889248395\n",
            "Accuracy: 0.1135\n",
            "Initialization Function: normal_init\n",
            "Epoch: 0, Training Loss: 0.0007329035100623313, Validation Loss: 0.08916043917219324\n",
            "Epoch: 10, Training Loss: 0.0006916599637221394, Validation Loss: 0.07107287207220907\n"
          ]
        }
      ],
      "source": [
        "for initialization_fn in initialization_fns:\n",
        "    print(f\"Initialization Function: {initialization_fn}\")\n",
        "    model = NeuralNetwork(784, (28,28), [256,128,64,32], 10, tanh, tanh_prime, initialization_fn, mse, mse_prime)\n",
        "    model.fit(x_train, y_train, x_val, y_val, epochs=20, learning_rate=0.001, batch_size=128, early_stopping=True, patience=10, verbose=True)\n",
        "    print(f\"Accuracy: {model.score(x_test, y_test)}\")\n",
        "    save_model(model, f\"model_{initialization_fn}_activation_tanh.pkl\")"
      ]
    },
    {
      "cell_type": "code",
      "execution_count": 26,
      "metadata": {},
      "outputs": [],
      "source": [
        "# Load Relu Model\n",
        "relu_model = load_model(\"model_relu.pkl\")\n",
        "# Load Sigmoid Model\n",
        "sigmoid_model = load_model(\"model_sigmoid.pkl\")\n",
        "# Load Tanh Model\n",
        "tanh_model = load_model(\"model_tanh.pkl\")\n",
        "# Load Leaky Relu Model\n",
        "leaky_relu_model = load_model(\"model_leaky_relu.pkl\")\n",
        "# Load Linear Model\n",
        "linear_model = load_model(\"model_linear.pkl\")"
      ]
    },
    {
      "cell_type": "code",
      "execution_count": 27,
      "metadata": {},
      "outputs": [
        {
          "data": {
            "image/png": "[encoded data removed]",
            "text/plain": [
              "<Figure size 432x288 with 1 Axes>"
            ]
          },
          "metadata": {
            "needs_background": "light"
          },
          "output_type": "display_data"
        }
      ],
      "source": [
        "import matplotlib.pyplot as plt\n",
        "# Plot the loss for all the models\n",
        "plt.plot(relu_model.train_loss, label='relu_train')\n",
        "plt.plot(relu_model.val_loss, label='relu_val')\n",
        "plt.legend()\n",
        "plt.show()"
      ]
    },
    {
      "cell_type": "code",
      "execution_count": 18,
      "metadata": {},
      "outputs": [
        {
          "data": {
            "image/png": "[encoded data removed]",
            "text/plain": [
              "<Figure size 432x288 with 1 Axes>"
            ]
          },
          "metadata": {
            "needs_background": "light"
          },
          "output_type": "display_data"
        }
      ],
      "source": [
        "import matplotlib.pyplot as plt\n",
        "# Plot the loss for all the models\n",
        "plt.plot(sigmoid_model.train_loss, label='sigmoid_train')\n",
        "plt.plot(sigmoid_model.val_loss, label='sigmoid_val')\n",
        "plt.legend()\n",
        "plt.show()"
      ]
    },
    {
      "cell_type": "code",
      "execution_count": 19,
      "metadata": {},
      "outputs": [
        {
          "data": {
            "image/png": "[encoded data removed]",
            "text/plain": [
              "<Figure size 432x288 with 1 Axes>"
            ]
          },
          "metadata": {
            "needs_background": "light"
          },
          "output_type": "display_data"
        }
      ],
      "source": [
        "import matplotlib.pyplot as plt\n",
        "# Plot the loss for all the models\n",
        "plt.plot(tanh_model.train_loss, label='tan_train')\n",
        "plt.plot(tanh_model.val_loss, label='tan_val')\n",
        "plt.legend()\n",
        "plt.show()"
      ]
    },
    {
      "cell_type": "code",
      "execution_count": 28,
      "metadata": {},
      "outputs": [
        {
          "data": {
            "image/png": "[encoded data removed]",
            "text/plain": [
              "<Figure size 432x288 with 1 Axes>"
            ]
          },
          "metadata": {
            "needs_background": "light"
          },
          "output_type": "display_data"
        }
      ],
      "source": [
        "import matplotlib.pyplot as plt\n",
        "# Plot the loss for all the models\n",
        "plt.plot(linear_model.train_loss, label='linear_train')\n",
        "plt.plot(linear_model.val_loss, label='linear_val')\n",
        "plt.legend()\n",
        "plt.show()"
      ]
    },
    {
      "cell_type": "code",
      "execution_count": 20,
      "metadata": {},
      "outputs": [
        {
          "data": {
            "image/png": "[encoded data removed]",
            "text/plain": [
              "<Figure size 432x288 with 1 Axes>"
            ]
          },
          "metadata": {
            "needs_background": "light"
          },
          "output_type": "display_data"
        }
      ],
      "source": [
        "import matplotlib.pyplot as plt\n",
        "# Plot the loss for all the models\n",
        "plt.plot(leaky_relu_model.train_loss, label='leaky_relu_train')\n",
        "plt.plot(leaky_relu_model.val_loss, label='leaky_relu_val')\n",
        "plt.legend()\n",
        "plt.show()"
      ]
    },
    {
      "cell_type": "code",
      "execution_count": 24,
      "metadata": {},
      "outputs": [],
      "source": [
        "# Load Zeros Model\n",
        "zeros_model = load_model(\"model_zeros_activation_tanh.pkl\")\n",
        "# Load Normal Init Model\n",
        "normal_init_model = load_model(\"model_normal_init_activation_tanh.pkl\")\n",
        "# Load Random Init Model\n",
        "random_init_model = load_model(\"model_random_init_activation_tanh.pkl\")"
      ]
    },
    {
      "cell_type": "code",
      "execution_count": 25,
      "metadata": {},
      "outputs": [
        {
          "data": {
            "image/png": "[encoded data removed]",
            "text/plain": [
              "<Figure size 432x288 with 1 Axes>"
            ]
          },
          "metadata": {
            "needs_background": "light"
          },
          "output_type": "display_data"
        }
      ],
      "source": [
        "# Plot the loss for all the models\n",
        "plt.plot(random_init_model.train_loss, label='random_train')\n",
        "plt.plot(random_init_model.val_loss, label='random_val')\n",
        "plt.legend()\n",
        "plt.show()"
      ]
    },
    {
      "cell_type": "code",
      "execution_count": 23,
      "metadata": {},
      "outputs": [
        {
          "data": {
            "image/png": "[encoded data removed]",
            "text/plain": [
              "<Figure size 432x288 with 1 Axes>"
            ]
          },
          "metadata": {
            "needs_background": "light"
          },
          "output_type": "display_data"
        }
      ],
      "source": [
        "# Plot the loss for all the models\n",
        "plt.plot(normal_init_model.train_loss, label='normal_train')\n",
        "plt.plot(normal_init_model.val_loss, label='normal_val')\n",
        "plt.legend()\n",
        "plt.show()"
      ]
    },
    {
      "cell_type": "code",
      "execution_count": 22,
      "metadata": {},
      "outputs": [
        {
          "data": {
            "image/png": "[encoded data removed]",
            "text/plain": [
              "<Figure size 432x288 with 1 Axes>"
            ]
          },
          "metadata": {
            "needs_background": "light"
          },
          "output_type": "display_data"
        }
      ],
      "source": [
        "# Plot the loss for all the models\n",
        "plt.plot(zeros_model.train_loss, label='zeros_train')\n",
        "plt.plot(zeros_model.val_loss, label='zeros_val')\n",
        "plt.legend()\n",
        "plt.show()"
      ]
    },
    {
      "cell_type": "code",
      "execution_count": null,
      "metadata": {},
      "outputs": [],
      "source": []
    }
  ],
  "metadata": {
    "colab": {
      "collapsed_sections": [],
      "provenance": []
    },
    "kernelspec": {
      "display_name": "Python 3.9.13 64-bit (microsoft store)",
      "language": "python",
      "name": "python3"
    },
    "language_info": {
      "codemirror_mode": {
        "name": "ipython",
        "version": 3
      },
      "file_extension": ".py",
      "mimetype": "text/x-python",
      "name": "python",
      "nbconvert_exporter": "python",
      "pygments_lexer": "ipython3",
      "version": "3.9.13"
    },
    "vscode": {
      "interpreter": {
        "hash": "a5a87ee616be0254e3f1af9223138e3faeac65b2c9d91bc22a9fc5a4a8bd8eb0"
      }
    }
  },
  "nbformat": 4,
  "nbformat_minor": 0
}
