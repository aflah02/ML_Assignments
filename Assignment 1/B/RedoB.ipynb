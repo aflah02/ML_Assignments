{
 "cells": [
  {
   "cell_type": "code",
   "execution_count": 2,
   "metadata": {},
   "outputs": [],
   "source": [
    "import pandas as pd\n",
    "import numpy as np\n",
    "import matplotlib.pyplot as plt\n",
    "from kfold import two_fold_split, three_fold_split, four_fold_split, five_fold_split\n",
    "from normalizers import MinMaxNormalizer, StandardScaler\n",
    "from metrics import MSE, RMSE\n",
    "from LR_Model import LinearRegression\n",
    "from plot_utils import plot_RMSEs"
   ]
  },
  {
   "cell_type": "code",
   "execution_count": 3,
   "metadata": {},
   "outputs": [],
   "source": [
    "df_data = pd.read_csv('Real estate.csv', index_col=0)"
   ]
  },
  {
   "cell_type": "code",
   "execution_count": 4,
   "metadata": {},
   "outputs": [
    {
     "data": {
      "text/html": [
       "<div>\n",
       "<style scoped>\n",
       "    .dataframe tbody tr th:only-of-type {\n",
       "        vertical-align: middle;\n",
       "    }\n",
       "\n",
       "    .dataframe tbody tr th {\n",
       "        vertical-align: top;\n",
       "    }\n",
       "\n",
       "    .dataframe thead th {\n",
       "        text-align: right;\n",
       "    }\n",
       "</style>\n",
       "<table border=\"1\" class=\"dataframe\">\n",
       "  <thead>\n",
       "    <tr style=\"text-align: right;\">\n",
       "      <th></th>\n",
       "      <th>X1 transaction date</th>\n",
       "      <th>X2 house age</th>\n",
       "      <th>X3 distance to the nearest MRT station</th>\n",
       "      <th>X4 number of convenience stores</th>\n",
       "      <th>X5 latitude</th>\n",
       "      <th>X6 longitude</th>\n",
       "      <th>Y house price of unit area</th>\n",
       "    </tr>\n",
       "    <tr>\n",
       "      <th>No</th>\n",
       "      <th></th>\n",
       "      <th></th>\n",
       "      <th></th>\n",
       "      <th></th>\n",
       "      <th></th>\n",
       "      <th></th>\n",
       "      <th></th>\n",
       "    </tr>\n",
       "  </thead>\n",
       "  <tbody>\n",
       "    <tr>\n",
       "      <th>1</th>\n",
       "      <td>2012.917</td>\n",
       "      <td>32.0</td>\n",
       "      <td>84.87882</td>\n",
       "      <td>10</td>\n",
       "      <td>24.98298</td>\n",
       "      <td>121.54024</td>\n",
       "      <td>37.9</td>\n",
       "    </tr>\n",
       "    <tr>\n",
       "      <th>2</th>\n",
       "      <td>2012.917</td>\n",
       "      <td>19.5</td>\n",
       "      <td>306.59470</td>\n",
       "      <td>9</td>\n",
       "      <td>24.98034</td>\n",
       "      <td>121.53951</td>\n",
       "      <td>42.2</td>\n",
       "    </tr>\n",
       "    <tr>\n",
       "      <th>3</th>\n",
       "      <td>2013.583</td>\n",
       "      <td>13.3</td>\n",
       "      <td>561.98450</td>\n",
       "      <td>5</td>\n",
       "      <td>24.98746</td>\n",
       "      <td>121.54391</td>\n",
       "      <td>47.3</td>\n",
       "    </tr>\n",
       "    <tr>\n",
       "      <th>4</th>\n",
       "      <td>2013.500</td>\n",
       "      <td>13.3</td>\n",
       "      <td>561.98450</td>\n",
       "      <td>5</td>\n",
       "      <td>24.98746</td>\n",
       "      <td>121.54391</td>\n",
       "      <td>54.8</td>\n",
       "    </tr>\n",
       "    <tr>\n",
       "      <th>5</th>\n",
       "      <td>2012.833</td>\n",
       "      <td>5.0</td>\n",
       "      <td>390.56840</td>\n",
       "      <td>5</td>\n",
       "      <td>24.97937</td>\n",
       "      <td>121.54245</td>\n",
       "      <td>43.1</td>\n",
       "    </tr>\n",
       "    <tr>\n",
       "      <th>...</th>\n",
       "      <td>...</td>\n",
       "      <td>...</td>\n",
       "      <td>...</td>\n",
       "      <td>...</td>\n",
       "      <td>...</td>\n",
       "      <td>...</td>\n",
       "      <td>...</td>\n",
       "    </tr>\n",
       "    <tr>\n",
       "      <th>410</th>\n",
       "      <td>2013.000</td>\n",
       "      <td>13.7</td>\n",
       "      <td>4082.01500</td>\n",
       "      <td>0</td>\n",
       "      <td>24.94155</td>\n",
       "      <td>121.50381</td>\n",
       "      <td>15.4</td>\n",
       "    </tr>\n",
       "    <tr>\n",
       "      <th>411</th>\n",
       "      <td>2012.667</td>\n",
       "      <td>5.6</td>\n",
       "      <td>90.45606</td>\n",
       "      <td>9</td>\n",
       "      <td>24.97433</td>\n",
       "      <td>121.54310</td>\n",
       "      <td>50.0</td>\n",
       "    </tr>\n",
       "    <tr>\n",
       "      <th>412</th>\n",
       "      <td>2013.250</td>\n",
       "      <td>18.8</td>\n",
       "      <td>390.96960</td>\n",
       "      <td>7</td>\n",
       "      <td>24.97923</td>\n",
       "      <td>121.53986</td>\n",
       "      <td>40.6</td>\n",
       "    </tr>\n",
       "    <tr>\n",
       "      <th>413</th>\n",
       "      <td>2013.000</td>\n",
       "      <td>8.1</td>\n",
       "      <td>104.81010</td>\n",
       "      <td>5</td>\n",
       "      <td>24.96674</td>\n",
       "      <td>121.54067</td>\n",
       "      <td>52.5</td>\n",
       "    </tr>\n",
       "    <tr>\n",
       "      <th>414</th>\n",
       "      <td>2013.500</td>\n",
       "      <td>6.5</td>\n",
       "      <td>90.45606</td>\n",
       "      <td>9</td>\n",
       "      <td>24.97433</td>\n",
       "      <td>121.54310</td>\n",
       "      <td>63.9</td>\n",
       "    </tr>\n",
       "  </tbody>\n",
       "</table>\n",
       "<p>414 rows × 7 columns</p>\n",
       "</div>"
      ],
      "text/plain": [
       "     X1 transaction date  X2 house age  \\\n",
       "No                                       \n",
       "1               2012.917          32.0   \n",
       "2               2012.917          19.5   \n",
       "3               2013.583          13.3   \n",
       "4               2013.500          13.3   \n",
       "5               2012.833           5.0   \n",
       "..                   ...           ...   \n",
       "410             2013.000          13.7   \n",
       "411             2012.667           5.6   \n",
       "412             2013.250          18.8   \n",
       "413             2013.000           8.1   \n",
       "414             2013.500           6.5   \n",
       "\n",
       "     X3 distance to the nearest MRT station  X4 number of convenience stores  \\\n",
       "No                                                                             \n",
       "1                                  84.87882                               10   \n",
       "2                                 306.59470                                9   \n",
       "3                                 561.98450                                5   \n",
       "4                                 561.98450                                5   \n",
       "5                                 390.56840                                5   \n",
       "..                                      ...                              ...   \n",
       "410                              4082.01500                                0   \n",
       "411                                90.45606                                9   \n",
       "412                               390.96960                                7   \n",
       "413                               104.81010                                5   \n",
       "414                                90.45606                                9   \n",
       "\n",
       "     X5 latitude  X6 longitude  Y house price of unit area  \n",
       "No                                                          \n",
       "1       24.98298     121.54024                        37.9  \n",
       "2       24.98034     121.53951                        42.2  \n",
       "3       24.98746     121.54391                        47.3  \n",
       "4       24.98746     121.54391                        54.8  \n",
       "5       24.97937     121.54245                        43.1  \n",
       "..           ...           ...                         ...  \n",
       "410     24.94155     121.50381                        15.4  \n",
       "411     24.97433     121.54310                        50.0  \n",
       "412     24.97923     121.53986                        40.6  \n",
       "413     24.96674     121.54067                        52.5  \n",
       "414     24.97433     121.54310                        63.9  \n",
       "\n",
       "[414 rows x 7 columns]"
      ]
     },
     "execution_count": 4,
     "metadata": {},
     "output_type": "execute_result"
    }
   ],
   "source": [
    "df_data"
   ]
  },
  {
   "cell_type": "code",
   "execution_count": 9,
   "metadata": {},
   "outputs": [],
   "source": [
    "df_data['Years since'] = df_data['X1 transaction date'].apply(lambda x: 2018 - int(str(x).split('.')[0]))"
   ]
  },
  {
   "cell_type": "code",
   "execution_count": 8,
   "metadata": {},
   "outputs": [
    {
     "data": {
      "text/html": [
       "<div>\n",
       "<style scoped>\n",
       "    .dataframe tbody tr th:only-of-type {\n",
       "        vertical-align: middle;\n",
       "    }\n",
       "\n",
       "    .dataframe tbody tr th {\n",
       "        vertical-align: top;\n",
       "    }\n",
       "\n",
       "    .dataframe thead th {\n",
       "        text-align: right;\n",
       "    }\n",
       "</style>\n",
       "<table border=\"1\" class=\"dataframe\">\n",
       "  <thead>\n",
       "    <tr style=\"text-align: right;\">\n",
       "      <th></th>\n",
       "      <th>X1 transaction date</th>\n",
       "      <th>X2 house age</th>\n",
       "      <th>X3 distance to the nearest MRT station</th>\n",
       "      <th>X4 number of convenience stores</th>\n",
       "      <th>X5 latitude</th>\n",
       "      <th>X6 longitude</th>\n",
       "      <th>Y house price of unit area</th>\n",
       "      <th>Years since</th>\n",
       "    </tr>\n",
       "    <tr>\n",
       "      <th>No</th>\n",
       "      <th></th>\n",
       "      <th></th>\n",
       "      <th></th>\n",
       "      <th></th>\n",
       "      <th></th>\n",
       "      <th></th>\n",
       "      <th></th>\n",
       "      <th></th>\n",
       "    </tr>\n",
       "  </thead>\n",
       "  <tbody>\n",
       "    <tr>\n",
       "      <th>1</th>\n",
       "      <td>2012.917</td>\n",
       "      <td>32.0</td>\n",
       "      <td>84.87882</td>\n",
       "      <td>10</td>\n",
       "      <td>24.98298</td>\n",
       "      <td>121.54024</td>\n",
       "      <td>37.9</td>\n",
       "      <td>7</td>\n",
       "    </tr>\n",
       "    <tr>\n",
       "      <th>2</th>\n",
       "      <td>2012.917</td>\n",
       "      <td>19.5</td>\n",
       "      <td>306.59470</td>\n",
       "      <td>9</td>\n",
       "      <td>24.98034</td>\n",
       "      <td>121.53951</td>\n",
       "      <td>42.2</td>\n",
       "      <td>7</td>\n",
       "    </tr>\n",
       "    <tr>\n",
       "      <th>3</th>\n",
       "      <td>2013.583</td>\n",
       "      <td>13.3</td>\n",
       "      <td>561.98450</td>\n",
       "      <td>5</td>\n",
       "      <td>24.98746</td>\n",
       "      <td>121.54391</td>\n",
       "      <td>47.3</td>\n",
       "      <td>6</td>\n",
       "    </tr>\n",
       "    <tr>\n",
       "      <th>4</th>\n",
       "      <td>2013.500</td>\n",
       "      <td>13.3</td>\n",
       "      <td>561.98450</td>\n",
       "      <td>5</td>\n",
       "      <td>24.98746</td>\n",
       "      <td>121.54391</td>\n",
       "      <td>54.8</td>\n",
       "      <td>6</td>\n",
       "    </tr>\n",
       "    <tr>\n",
       "      <th>5</th>\n",
       "      <td>2012.833</td>\n",
       "      <td>5.0</td>\n",
       "      <td>390.56840</td>\n",
       "      <td>5</td>\n",
       "      <td>24.97937</td>\n",
       "      <td>121.54245</td>\n",
       "      <td>43.1</td>\n",
       "      <td>7</td>\n",
       "    </tr>\n",
       "    <tr>\n",
       "      <th>...</th>\n",
       "      <td>...</td>\n",
       "      <td>...</td>\n",
       "      <td>...</td>\n",
       "      <td>...</td>\n",
       "      <td>...</td>\n",
       "      <td>...</td>\n",
       "      <td>...</td>\n",
       "      <td>...</td>\n",
       "    </tr>\n",
       "    <tr>\n",
       "      <th>410</th>\n",
       "      <td>2013.000</td>\n",
       "      <td>13.7</td>\n",
       "      <td>4082.01500</td>\n",
       "      <td>0</td>\n",
       "      <td>24.94155</td>\n",
       "      <td>121.50381</td>\n",
       "      <td>15.4</td>\n",
       "      <td>6</td>\n",
       "    </tr>\n",
       "    <tr>\n",
       "      <th>411</th>\n",
       "      <td>2012.667</td>\n",
       "      <td>5.6</td>\n",
       "      <td>90.45606</td>\n",
       "      <td>9</td>\n",
       "      <td>24.97433</td>\n",
       "      <td>121.54310</td>\n",
       "      <td>50.0</td>\n",
       "      <td>7</td>\n",
       "    </tr>\n",
       "    <tr>\n",
       "      <th>412</th>\n",
       "      <td>2013.250</td>\n",
       "      <td>18.8</td>\n",
       "      <td>390.96960</td>\n",
       "      <td>7</td>\n",
       "      <td>24.97923</td>\n",
       "      <td>121.53986</td>\n",
       "      <td>40.6</td>\n",
       "      <td>6</td>\n",
       "    </tr>\n",
       "    <tr>\n",
       "      <th>413</th>\n",
       "      <td>2013.000</td>\n",
       "      <td>8.1</td>\n",
       "      <td>104.81010</td>\n",
       "      <td>5</td>\n",
       "      <td>24.96674</td>\n",
       "      <td>121.54067</td>\n",
       "      <td>52.5</td>\n",
       "      <td>6</td>\n",
       "    </tr>\n",
       "    <tr>\n",
       "      <th>414</th>\n",
       "      <td>2013.500</td>\n",
       "      <td>6.5</td>\n",
       "      <td>90.45606</td>\n",
       "      <td>9</td>\n",
       "      <td>24.97433</td>\n",
       "      <td>121.54310</td>\n",
       "      <td>63.9</td>\n",
       "      <td>6</td>\n",
       "    </tr>\n",
       "  </tbody>\n",
       "</table>\n",
       "<p>414 rows × 8 columns</p>\n",
       "</div>"
      ],
      "text/plain": [
       "     X1 transaction date  X2 house age  \\\n",
       "No                                       \n",
       "1               2012.917          32.0   \n",
       "2               2012.917          19.5   \n",
       "3               2013.583          13.3   \n",
       "4               2013.500          13.3   \n",
       "5               2012.833           5.0   \n",
       "..                   ...           ...   \n",
       "410             2013.000          13.7   \n",
       "411             2012.667           5.6   \n",
       "412             2013.250          18.8   \n",
       "413             2013.000           8.1   \n",
       "414             2013.500           6.5   \n",
       "\n",
       "     X3 distance to the nearest MRT station  X4 number of convenience stores  \\\n",
       "No                                                                             \n",
       "1                                  84.87882                               10   \n",
       "2                                 306.59470                                9   \n",
       "3                                 561.98450                                5   \n",
       "4                                 561.98450                                5   \n",
       "5                                 390.56840                                5   \n",
       "..                                      ...                              ...   \n",
       "410                              4082.01500                                0   \n",
       "411                                90.45606                                9   \n",
       "412                               390.96960                                7   \n",
       "413                               104.81010                                5   \n",
       "414                                90.45606                                9   \n",
       "\n",
       "     X5 latitude  X6 longitude  Y house price of unit area  Years since  \n",
       "No                                                                       \n",
       "1       24.98298     121.54024                        37.9            7  \n",
       "2       24.98034     121.53951                        42.2            7  \n",
       "3       24.98746     121.54391                        47.3            6  \n",
       "4       24.98746     121.54391                        54.8            6  \n",
       "5       24.97937     121.54245                        43.1            7  \n",
       "..           ...           ...                         ...          ...  \n",
       "410     24.94155     121.50381                        15.4            6  \n",
       "411     24.97433     121.54310                        50.0            7  \n",
       "412     24.97923     121.53986                        40.6            6  \n",
       "413     24.96674     121.54067                        52.5            6  \n",
       "414     24.97433     121.54310                        63.9            6  \n",
       "\n",
       "[414 rows x 8 columns]"
      ]
     },
     "execution_count": 8,
     "metadata": {},
     "output_type": "execute_result"
    }
   ],
   "source": [
    "df_data"
   ]
  },
  {
   "cell_type": "code",
   "execution_count": 10,
   "metadata": {},
   "outputs": [],
   "source": [
    "X = df_data.drop(columns=['Y house price of unit area', 'X1 transaction date'])\n",
    "y = df_data['Y house price of unit area']"
   ]
  },
  {
   "cell_type": "code",
   "execution_count": 11,
   "metadata": {},
   "outputs": [],
   "source": [
    "two_folds = two_fold_split(X, y)\n",
    "three_folds = three_fold_split(X, y)\n",
    "four_folds = four_fold_split(X, y)\n",
    "five_folds = five_fold_split(X, y)"
   ]
  },
  {
   "cell_type": "code",
   "execution_count": 12,
   "metadata": {},
   "outputs": [],
   "source": [
    "def add_ones(X):\n",
    "    return np.concatenate((np.ones((X.shape[0], 1)), X), axis=1)"
   ]
  },
  {
   "cell_type": "code",
   "execution_count": 13,
   "metadata": {},
   "outputs": [],
   "source": [
    "def solveNormalEquation(X, y):\n",
    "    \"\"\"\n",
    "    Implementation of a function to solve the normal equation\n",
    "\n",
    "    Args:\n",
    "        X: Data to solve\n",
    "        y: Labels to solve\n",
    "\n",
    "    Returns:\n",
    "        The solution to the normal equation\n",
    "    \"\"\"\n",
    "    # X = add_ones(X)\n",
    "    params = np.linalg.inv(X.T.dot(X)).dot(X.T).dot(y)\n",
    "    return params"
   ]
  },
  {
   "cell_type": "code",
   "execution_count": 14,
   "metadata": {},
   "outputs": [],
   "source": [
    "def evaluate_model(X, y, params):\n",
    "    \"\"\"\n",
    "    Implementation of a function to evaluate the model\n",
    "\n",
    "    Args:\n",
    "        X: Data to evaluate\n",
    "        y: Labels to evaluate\n",
    "        params: Parameters of the model\n",
    "\n",
    "    Returns:\n",
    "        The evaluation of the model\n",
    "    \"\"\"\n",
    "    y_pred = X.dot(params)\n",
    "    return RMSE(y, y_pred), MSE(y, y_pred)"
   ]
  },
  {
   "cell_type": "markdown",
   "metadata": {},
   "source": [
    "# Gradient Descent"
   ]
  },
  {
   "cell_type": "code",
   "execution_count": 15,
   "metadata": {},
   "outputs": [],
   "source": [
    "learning_rates = [0.0001, 0.001, 0.01, 0.1]"
   ]
  },
  {
   "cell_type": "markdown",
   "metadata": {},
   "source": [
    "K = 2"
   ]
  },
  {
   "cell_type": "code",
   "execution_count": 16,
   "metadata": {},
   "outputs": [
    {
     "name": "stdout",
     "output_type": "stream",
     "text": [
      "Learning Rate: 0.0001\n",
      "RMSE: 36.214587773310285, MSE: 1311.496367590795\n",
      "RMSE: 35.816254490787934, MSE: 1282.804085748887\n",
      "Average RMSE: 36.01542113204911, RMSE Variance: 0.039667350991257844\n",
      "\n",
      "Learning Rate: 0.001\n",
      "RMSE: 16.640112872492434, MSE: 276.89335640928846\n",
      "RMSE: 16.462243939582923, MSE: 271.0054755263347\n",
      "Average RMSE: 16.55117840603768, RMSE Variance: 0.007909339323592082\n",
      "\n",
      "Learning Rate: 0.01\n",
      "RMSE: 8.165105652285218, MSE: 66.66895031298003\n",
      "RMSE: 9.629049634769604, MSE: 92.71859686885664\n",
      "Average RMSE: 8.89707764352741, RMSE Variance: 0.5357829959630609\n",
      "\n",
      "Learning Rate: 0.1\n",
      "RMSE: 8.168424487404579, MSE: 66.72315860643076\n",
      "RMSE: 9.625700471314298, MSE: 92.6541095634603\n",
      "Average RMSE: 8.897062479359438, RMSE Variance: 0.5309133233200101\n",
      "\n"
     ]
    }
   ],
   "source": [
    "for learning_rate in learning_rates:\n",
    "    RMSEs = []\n",
    "    MSEs = []\n",
    "    print(f'Learning Rate: {learning_rate}')\n",
    "    for fold in two_folds:\n",
    "        X_train, y_train, X_test, y_test = fold\n",
    "\n",
    "        standard_scaler = StandardScaler()\n",
    "        X_train = standard_scaler.fit_transform(X_train)\n",
    "        X_test = standard_scaler.transform(X_test) \n",
    "\n",
    "        X_train = add_ones(X_train)\n",
    "        X_test = add_ones(X_test)\n",
    "\n",
    "        LR = LinearRegression(learning_rate=learning_rate, epochs=1000, early_stopping=False)\n",
    "        LR.fit(X_train, y_train)\n",
    "        params = LR.get_params()\n",
    "\n",
    "        rmse, mse = evaluate_model(X_test, y_test, params)\n",
    "\n",
    "        RMSEs.append(rmse)\n",
    "        MSEs.append(mse)\n",
    "        print('RMSE: {}, MSE: {}'.format(rmse, mse))\n",
    "    print(f\"Average RMSE: {np.mean(RMSEs)}, RMSE Variance: {np.var(RMSEs)}\")\n",
    "    print()"
   ]
  },
  {
   "cell_type": "markdown",
   "metadata": {},
   "source": [
    "## As we can see a LR of 0.1 performs the best so we'll plot that and have a look"
   ]
  },
  {
   "cell_type": "code",
   "execution_count": 17,
   "metadata": {},
   "outputs": [
    {
     "name": "stdout",
     "output_type": "stream",
     "text": [
      "\n"
     ]
    }
   ],
   "source": [
    "all_RMSEs = []\n",
    "RMSEs = []\n",
    "MSEs = []\n",
    "for fold in two_folds:\n",
    "    X_train, y_train, X_test, y_test = fold\n",
    "    standard_scaler = StandardScaler()\n",
    "    X_train = standard_scaler.fit_transform(X_train)\n",
    "    X_test = standard_scaler.transform(X_test) \n",
    "    X_train = add_ones(X_train)\n",
    "    X_test = add_ones(X_test)\n",
    "    LR = LinearRegression(learning_rate=0.1, epochs=1000, early_stopping=False)\n",
    "    LR.fit(X_train, y_train)\n",
    "    params = LR.get_params()\n",
    "    all_RMSEs.append(LR.get_RMSEs())\n",
    "print()"
   ]
  },
  {
   "cell_type": "code",
   "execution_count": 18,
   "metadata": {},
   "outputs": [
    {
     "data": {
      "text/plain": [
       "<module 'matplotlib.pyplot' from 'C:\\\\Users\\\\ASUS\\\\AppData\\\\Local\\\\Packages\\\\PythonSoftwareFoundation.Python.3.9_qbz5n2kfra8p0\\\\LocalCache\\\\local-packages\\\\Python39\\\\site-packages\\\\matplotlib\\\\pyplot.py'>"
      ]
     },
     "execution_count": 18,
     "metadata": {},
     "output_type": "execute_result"
    },
    {
     "data": {
      "image/png": "[encoded data removed]",
      "text/plain": [
       "<Figure size 432x288 with 1 Axes>"
      ]
     },
     "metadata": {
      "needs_background": "light"
     },
     "output_type": "display_data"
    }
   ],
   "source": [
    "plot_RMSEs(all_RMSEs, \"K = 2\", \"Iterations\", \"RMSE\")"
   ]
  },
  {
   "cell_type": "markdown",
   "metadata": {},
   "source": [
    "K = 3"
   ]
  },
  {
   "cell_type": "code",
   "execution_count": 19,
   "metadata": {},
   "outputs": [
    {
     "name": "stdout",
     "output_type": "stream",
     "text": [
      "Learning Rate: 0.0001\n",
      "RMSE: 36.73947356534616, MSE: 1349.7889178587693\n",
      "RMSE: 36.01914827001337, MSE: 1297.379042097207\n",
      "RMSE: 35.2821101665008, MSE: 1244.8272978010991\n",
      "Average RMSE: 36.01357733395344, RMSE Variance: 0.35400019704664154\n",
      "\n",
      "Learning Rate: 0.001\n",
      "RMSE: 16.860427062435036, MSE: 284.27400072769177\n",
      "RMSE: 17.319894362286966, MSE: 299.9787407207798\n",
      "RMSE: 15.41354709832028, MSE: 237.57743415213753\n",
      "Average RMSE: 16.53128950768076, RMSE Variance: 0.6598590801136908\n",
      "\n",
      "Learning Rate: 0.01\n",
      "RMSE: 8.242068626301526, MSE: 67.93169524066393\n",
      "RMSE: 10.204615502512498, MSE: 104.13417755411841\n",
      "RMSE: 8.161705523576071, MSE: 66.61343705357214\n",
      "Average RMSE: 8.869463217463364, RMSE Variance: 0.8923921835159042\n",
      "\n",
      "Learning Rate: 0.1\n",
      "RMSE: 8.271321570215122, MSE: 68.41476051790593\n",
      "RMSE: 10.183123066303592, MSE: 103.69599538348426\n",
      "RMSE: 8.141517410338379, MSE: 66.28430574284293\n",
      "Average RMSE: 8.865320682285699, RMSE Variance: 0.8711097483151744\n",
      "\n"
     ]
    }
   ],
   "source": [
    "for learning_rate in learning_rates:\n",
    "    RMSEs = []\n",
    "    MSEs = []\n",
    "    print(f'Learning Rate: {learning_rate}')\n",
    "    for fold in three_folds:\n",
    "        X_train, y_train, X_test, y_test = fold\n",
    "\n",
    "        standard_scaler = StandardScaler()\n",
    "        X_train = standard_scaler.fit_transform(X_train)\n",
    "        X_test = standard_scaler.transform(X_test) \n",
    "\n",
    "        X_train = add_ones(X_train)\n",
    "        X_test = add_ones(X_test)\n",
    "\n",
    "        LR = LinearRegression(learning_rate=learning_rate, epochs=1000, early_stopping=True)\n",
    "        LR.fit(X_train, y_train)\n",
    "        params = LR.get_params()\n",
    "\n",
    "        rmse, mse = evaluate_model(X_test, y_test, params)\n",
    "\n",
    "        RMSEs.append(rmse)\n",
    "        MSEs.append(mse)\n",
    "\n",
    "        print('RMSE: {}, MSE: {}'.format(rmse, mse))\n",
    "    print(f\"Average RMSE: {np.mean(RMSEs)}, RMSE Variance: {np.var(RMSEs)}\")\n",
    "    print()"
   ]
  },
  {
   "cell_type": "markdown",
   "metadata": {},
   "source": [
    "## As we can see a LR of 0.1 performs the best so we'll plot that and have a look"
   ]
  },
  {
   "cell_type": "code",
   "execution_count": 20,
   "metadata": {},
   "outputs": [
    {
     "name": "stdout",
     "output_type": "stream",
     "text": [
      "\n"
     ]
    }
   ],
   "source": [
    "all_RMSEs = []\n",
    "RMSEs = []\n",
    "MSEs = []\n",
    "for fold in three_folds:\n",
    "    X_train, y_train, X_test, y_test = fold\n",
    "    standard_scaler = StandardScaler()\n",
    "    X_train = standard_scaler.fit_transform(X_train)\n",
    "    X_test = standard_scaler.transform(X_test) \n",
    "    X_train = add_ones(X_train)\n",
    "    X_test = add_ones(X_test)\n",
    "    LR = LinearRegression(learning_rate=0.1, epochs=1000, early_stopping=False)\n",
    "    LR.fit(X_train, y_train)\n",
    "    params = LR.get_params()\n",
    "    all_RMSEs.append(LR.get_RMSEs())\n",
    "print()"
   ]
  },
  {
   "cell_type": "code",
   "execution_count": 21,
   "metadata": {},
   "outputs": [
    {
     "data": {
      "text/plain": [
       "<module 'matplotlib.pyplot' from 'C:\\\\Users\\\\ASUS\\\\AppData\\\\Local\\\\Packages\\\\PythonSoftwareFoundation.Python.3.9_qbz5n2kfra8p0\\\\LocalCache\\\\local-packages\\\\Python39\\\\site-packages\\\\matplotlib\\\\pyplot.py'>"
      ]
     },
     "execution_count": 21,
     "metadata": {},
     "output_type": "execute_result"
    },
    {
     "data": {
      "image/png": "[encoded data removed]",
      "text/plain": [
       "<Figure size 432x288 with 1 Axes>"
      ]
     },
     "metadata": {
      "needs_background": "light"
     },
     "output_type": "display_data"
    }
   ],
   "source": [
    "plot_RMSEs(all_RMSEs, \"K = 3\", \"Iterations\", \"RMSE\")"
   ]
  },
  {
   "cell_type": "markdown",
   "metadata": {},
   "source": [
    "K = 4"
   ]
  },
  {
   "cell_type": "code",
   "execution_count": 22,
   "metadata": {},
   "outputs": [
    {
     "name": "stdout",
     "output_type": "stream",
     "text": [
      "Learning Rate: 0.0001\n",
      "RMSE: 36.247718644869835, MSE: 1313.8971069576442\n",
      "RMSE: 36.09479003905462, MSE: 1302.8338679634367\n",
      "RMSE: 36.129290180599426, MSE: 1305.3256089539582\n",
      "RMSE: 35.57462579986026, MSE: 1265.554000800083\n",
      "Average RMSE: 36.01160616609603, RMSE Variance: 0.06686750677457182\n",
      "\n",
      "Learning Rate: 0.001\n",
      "RMSE: 16.288022785777667, MSE: 265.2996862700125\n",
      "RMSE: 16.66312980076215, MSE: 277.65989475704765\n",
      "RMSE: 17.331599052044304, MSE: 300.38432570082296\n",
      "RMSE: 15.840916748486539, MSE: 250.93464343248132\n",
      "Average RMSE: 16.530917096767666, RMSE Variance: 0.2984174798856341\n",
      "\n",
      "Learning Rate: 0.01\n",
      "RMSE: 7.008145318250513, MSE: 49.11410080171659\n",
      "RMSE: 9.174003996217724, MSE: 84.16234932261877\n",
      "RMSE: 10.81667607230247, MSE: 117.00048125312081\n",
      "RMSE: 8.315327349782656, MSE: 69.14466893404345\n",
      "Average RMSE: 8.828538184138342, RMSE Variance: 1.9123136090861883\n",
      "\n",
      "Learning Rate: 0.1\n",
      "RMSE: 7.0322209679475005, MSE: 49.452131742040486\n",
      "RMSE: 9.163139481159131, MSE: 83.96312515117724\n",
      "RMSE: 10.82724997440253, MSE: 117.22934200819961\n",
      "RMSE: 8.295665929025, MSE: 68.81807320598622\n",
      "Average RMSE: 8.82956908813354, RMSE Variance: 1.9043777447275185\n",
      "\n"
     ]
    }
   ],
   "source": [
    "for learning_rate in learning_rates:\n",
    "    RMSEs = []\n",
    "    MSEs = []\n",
    "    print(f'Learning Rate: {learning_rate}')\n",
    "    for fold in four_folds:\n",
    "        X_train, y_train, X_test, y_test = fold\n",
    "\n",
    "        standard_scaler = StandardScaler()\n",
    "        X_train = standard_scaler.fit_transform(X_train)\n",
    "        X_test = standard_scaler.transform(X_test) \n",
    "\n",
    "        X_train = add_ones(X_train)\n",
    "        X_test = add_ones(X_test)\n",
    "\n",
    "        LR = LinearRegression(learning_rate=learning_rate, epochs=1000, early_stopping=True)\n",
    "        LR.fit(X_train, y_train)\n",
    "        params = LR.get_params()\n",
    "\n",
    "        rmse, mse = evaluate_model(X_test, y_test, params)\n",
    "\n",
    "        RMSEs.append(rmse)\n",
    "        MSEs.append(mse)\n",
    "\n",
    "        print('RMSE: {}, MSE: {}'.format(rmse, mse))\n",
    "    print(f\"Average RMSE: {np.mean(RMSEs)}, RMSE Variance: {np.var(RMSEs)}\")\n",
    "    print()"
   ]
  },
  {
   "cell_type": "markdown",
   "metadata": {},
   "source": [
    "## As we can see a LR of 0.1 performs the best so we'll plot that and have a look"
   ]
  },
  {
   "cell_type": "code",
   "execution_count": 23,
   "metadata": {},
   "outputs": [],
   "source": [
    "all_RMSEs = []\n",
    "RMSEs = []\n",
    "MSEs = []\n",
    "for fold in four_folds:\n",
    "    X_train, y_train, X_test, y_test = fold\n",
    "    standard_scaler = StandardScaler()\n",
    "    X_train = standard_scaler.fit_transform(X_train)\n",
    "    X_test = standard_scaler.transform(X_test) \n",
    "    X_train = add_ones(X_train)\n",
    "    X_test = add_ones(X_test)\n",
    "    LR = LinearRegression(learning_rate=0.1, epochs=1000, early_stopping=False)\n",
    "    LR.fit(X_train, y_train)\n",
    "    params = LR.get_params()\n",
    "    all_RMSEs.append(LR.get_RMSEs())"
   ]
  },
  {
   "cell_type": "code",
   "execution_count": 24,
   "metadata": {},
   "outputs": [
    {
     "data": {
      "text/plain": [
       "<module 'matplotlib.pyplot' from 'C:\\\\Users\\\\ASUS\\\\AppData\\\\Local\\\\Packages\\\\PythonSoftwareFoundation.Python.3.9_qbz5n2kfra8p0\\\\LocalCache\\\\local-packages\\\\Python39\\\\site-packages\\\\matplotlib\\\\pyplot.py'>"
      ]
     },
     "execution_count": 24,
     "metadata": {},
     "output_type": "execute_result"
    },
    {
     "data": {
      "image/png": "[encoded data removed]",
      "text/plain": [
       "<Figure size 432x288 with 1 Axes>"
      ]
     },
     "metadata": {
      "needs_background": "light"
     },
     "output_type": "display_data"
    }
   ],
   "source": [
    "plot_RMSEs(all_RMSEs, \"K = 4\", \"Iterations\", \"RMSE\")"
   ]
  },
  {
   "cell_type": "markdown",
   "metadata": {},
   "source": [
    "K = 5"
   ]
  },
  {
   "cell_type": "code",
   "execution_count": 25,
   "metadata": {},
   "outputs": [
    {
     "name": "stdout",
     "output_type": "stream",
     "text": [
      "Learning Rate: 0.0001\n",
      "RMSE: 36.002555641050144, MSE: 1296.1840126869115\n",
      "RMSE: 37.18158163913651, MSE: 1382.4700131877732\n",
      "RMSE: 35.32325273552617, MSE: 1247.7321838178568\n",
      "RMSE: 36.32494644686623, MSE: 1319.5017343676993\n",
      "RMSE: 35.23164782644089, MSE: 1241.2690085663571\n",
      "Average RMSE: 36.01279685780399, RMSE Variance: 0.5098530038628459\n",
      "\n",
      "Learning Rate: 0.001\n",
      "RMSE: 15.950620949442124, MSE: 254.42230867278198\n",
      "RMSE: 17.688283351885264, MSE: 312.8753679365814\n",
      "RMSE: 15.439037097855426, MSE: 238.36386650895608\n",
      "RMSE: 17.745379984223877, MSE: 314.89851078449345\n",
      "RMSE: 15.659314606027692, MSE: 245.2141339305522\n",
      "Average RMSE: 16.496527197886877, RMSE Variance: 1.0194279760515688\n",
      "\n",
      "Learning Rate: 0.01\n",
      "RMSE: 7.123179491114825, MSE: 50.73968606263885\n",
      "RMSE: 9.260444732600645, MSE: 85.75583664555103\n",
      "RMSE: 7.6541923493368405, MSE: 58.586660520646625\n",
      "RMSE: 11.779289135520894, MSE: 138.75165253820057\n",
      "RMSE: 7.709911545610658, MSE: 59.44273604114053\n",
      "Average RMSE: 8.705403450836773, RMSE Variance: 2.8712651197947343\n",
      "\n",
      "Learning Rate: 0.1\n",
      "RMSE: 7.138223284649192, MSE: 50.954231661507905\n",
      "RMSE: 9.26195541669074, MSE: 85.78381814076691\n",
      "RMSE: 7.6810808405147775, MSE: 58.9990028785232\n",
      "RMSE: 11.749649897468515, MSE: 138.0542727130819\n",
      "RMSE: 7.68764414330422, MSE: 59.09987247407967\n",
      "Average RMSE: 8.703710716525489, RMSE Variance: 2.823659336631281\n",
      "\n"
     ]
    }
   ],
   "source": [
    "for learning_rate in learning_rates:\n",
    "    RMSEs = []\n",
    "    MSEs = []\n",
    "    print(f'Learning Rate: {learning_rate}')\n",
    "    for fold in five_folds:\n",
    "        X_train, y_train, X_test, y_test = fold\n",
    "\n",
    "        standard_scaler = StandardScaler()\n",
    "        X_train = standard_scaler.fit_transform(X_train)\n",
    "        X_test = standard_scaler.transform(X_test) \n",
    "\n",
    "        X_train = add_ones(X_train)\n",
    "        X_test = add_ones(X_test)\n",
    "\n",
    "        LR = LinearRegression(learning_rate=learning_rate, epochs=1000, early_stopping=True)\n",
    "        LR.fit(X_train, y_train)\n",
    "        params = LR.get_params()\n",
    "\n",
    "        rmse, mse = evaluate_model(X_test, y_test, params)\n",
    "\n",
    "        RMSEs.append(rmse)\n",
    "        MSEs.append(mse)\n",
    "\n",
    "        print('RMSE: {}, MSE: {}'.format(rmse, mse))\n",
    "    print(f\"Average RMSE: {np.mean(RMSEs)}, RMSE Variance: {np.var(RMSEs)}\")\n",
    "    print()"
   ]
  },
  {
   "cell_type": "markdown",
   "metadata": {},
   "source": [
    "## As we can see a LR of 0.1 performs the best so we'll plot that and have a look"
   ]
  },
  {
   "cell_type": "code",
   "execution_count": 26,
   "metadata": {},
   "outputs": [],
   "source": [
    "all_RMSEs = []\n",
    "RMSEs = []\n",
    "MSEs = []\n",
    "for fold in five_folds:\n",
    "    X_train, y_train, X_test, y_test = fold\n",
    "    standard_scaler = StandardScaler()\n",
    "    X_train = standard_scaler.fit_transform(X_train)\n",
    "    X_test = standard_scaler.transform(X_test) \n",
    "    X_train = add_ones(X_train)\n",
    "    X_test = add_ones(X_test)\n",
    "    LR = LinearRegression(learning_rate=0.1, epochs=1000, early_stopping=False)\n",
    "    LR.fit(X_train, y_train)\n",
    "    params = LR.get_params()\n",
    "    all_RMSEs.append(LR.get_RMSEs())"
   ]
  },
  {
   "cell_type": "code",
   "execution_count": 27,
   "metadata": {},
   "outputs": [
    {
     "data": {
      "text/plain": [
       "<module 'matplotlib.pyplot' from 'C:\\\\Users\\\\ASUS\\\\AppData\\\\Local\\\\Packages\\\\PythonSoftwareFoundation.Python.3.9_qbz5n2kfra8p0\\\\LocalCache\\\\local-packages\\\\Python39\\\\site-packages\\\\matplotlib\\\\pyplot.py'>"
      ]
     },
     "execution_count": 27,
     "metadata": {},
     "output_type": "execute_result"
    },
    {
     "data": {
      "image/png": "[encoded data removed]",
      "text/plain": [
       "<Figure size 432x288 with 1 Axes>"
      ]
     },
     "metadata": {
      "needs_background": "light"
     },
     "output_type": "display_data"
    }
   ],
   "source": [
    "plot_RMSEs(all_RMSEs, \"K = 5\", \"Iterations\", \"RMSE\")"
   ]
  },
  {
   "cell_type": "markdown",
   "metadata": {},
   "source": [
    "# Regularization"
   ]
  },
  {
   "cell_type": "code",
   "execution_count": 28,
   "metadata": {},
   "outputs": [],
   "source": [
    "reg_lambdas = [0.001, 0.01, 0.1, 1, 10, 100]"
   ]
  },
  {
   "cell_type": "markdown",
   "metadata": {},
   "source": [
    "## Ridge"
   ]
  },
  {
   "cell_type": "code",
   "execution_count": 29,
   "metadata": {},
   "outputs": [
    {
     "name": "stdout",
     "output_type": "stream",
     "text": [
      "reg_lambda: 0.001\n",
      "RMSE: 7.145128642003718, MSE: 51.052863310781895\n",
      "RMSE: 9.271127327483907, MSE: 85.95380192241888\n",
      "RMSE: 7.674398197353708, MSE: 58.89638769154583\n",
      "RMSE: 11.744928304511292, MSE: 137.9433408781105\n",
      "RMSE: 7.683865891036609, MSE: 59.04179503143582\n",
      "Average RMSE: 8.703889672477846, RMSE Variance: 2.81994233619207\n",
      "\n",
      "reg_lambda: 0.01\n",
      "RMSE: 7.24005336228657, MSE: 52.41837268875707\n",
      "RMSE: 9.381230653460175, MSE: 88.00748857342083\n",
      "RMSE: 7.651046859199967, MSE: 58.53851804167368\n",
      "RMSE: 11.72634293460031, MSE: 137.50711861985062\n",
      "RMSE: 7.685752320421812, MSE: 59.07078873086927\n",
      "Average RMSE: 8.736885225993767, RMSE Variance: 2.7752938787261368\n",
      "\n",
      "reg_lambda: 0.1\n",
      "RMSE: 9.928747212221872, MSE: 98.58002120420358\n",
      "RMSE: 11.930464919959357, MSE: 142.33599320638083\n",
      "RMSE: 9.591955637962092, MSE: 92.00561296063276\n",
      "RMSE: 13.047843387285372, MSE: 170.24621705912662\n",
      "RMSE: 9.797809881331977, MSE: 95.99707847072655\n",
      "Average RMSE: 10.859364207752135, RMSE Variance: 1.9071935836059317\n",
      "\n",
      "reg_lambda: 1\n",
      "RMSE: 27.13152439824341, MSE: 736.1196161724775\n",
      "RMSE: 28.571393475754693, MSE: 816.3245251463978\n",
      "RMSE: 26.272755069764482, MSE: 690.2576589558353\n",
      "RMSE: 27.731618089288894, MSE: 769.0426418501751\n",
      "RMSE: 26.621687978561617, MSE: 708.714270827892\n",
      "Average RMSE: 27.26579580232262, RMSE Variance: 0.6681218566017744\n",
      "\n",
      "reg_lambda: 10\n",
      "RMSE: 42.01823064079731, MSE: 1765.5317061832382\n",
      "RMSE: 42.75165515653273, MSE: 1827.7040186230915\n",
      "RMSE: 41.24976268511562, MSE: 1701.5429215783568\n",
      "RMSE: 41.95809642967127, MSE: 1760.4818560015929\n",
      "RMSE: 40.75315047065473, MSE: 1660.8192732838259\n",
      "Average RMSE: 41.74617907655433, RMSE Variance: 0.47248764227836026\n",
      "\n",
      "reg_lambda: 100\n",
      "RMSE: 5129760.193262185, MSE: 26314439640377.293\n",
      "RMSE: 5082781.685646037, MSE: 25834669663938.77\n",
      "RMSE: 4951496.065300683, MSE: 24517313284688.14\n",
      "RMSE: 5336819.071815461, MSE: 28481637805293.24\n",
      "RMSE: 5135286.490729465, MSE: 26371167341868.547\n",
      "Average RMSE: 5127228.701350766, RMSE Variance: 15371391278.132935\n",
      "\n"
     ]
    }
   ],
   "source": [
    "for reg_lambda in reg_lambdas:\n",
    "    RMSEs = []\n",
    "    MSEs = []\n",
    "    print(f'reg_lambda: {reg_lambda}')\n",
    "    for fold in five_folds:\n",
    "        X_train, y_train, X_test, y_test = fold\n",
    "\n",
    "        standard_scaler = StandardScaler()\n",
    "        X_train = standard_scaler.fit_transform(X_train)\n",
    "        X_test = standard_scaler.transform(X_test) \n",
    "\n",
    "        X_train = add_ones(X_train)\n",
    "        X_test = add_ones(X_test)\n",
    "\n",
    "        LR = LinearRegression(learning_rate=0.1, epochs=1000, early_stopping=True, regularization='Ridge', reg_lambda=reg_lambda)\n",
    "        LR.fit(X_train, y_train)\n",
    "        params = LR.get_params()\n",
    "\n",
    "        rmse, mse = evaluate_model(X_test, y_test, params)\n",
    "\n",
    "        RMSEs.append(rmse)\n",
    "        MSEs.append(mse)\n",
    "\n",
    "        print('RMSE: {}, MSE: {}'.format(rmse, mse))\n",
    "    print(f\"Average RMSE: {np.mean(RMSEs)}, RMSE Variance: {np.var(RMSEs)}\")\n",
    "    print()"
   ]
  },
  {
   "cell_type": "markdown",
   "metadata": {},
   "source": [
    "## Lasso"
   ]
  },
  {
   "cell_type": "code",
   "execution_count": 30,
   "metadata": {},
   "outputs": [
    {
     "name": "stdout",
     "output_type": "stream",
     "text": [
      "reg_lambda: 0.001\n",
      "RMSE: 7.138458135167153, MSE: 50.957584547534104\n",
      "RMSE: 9.261886465846922, MSE: 85.78254090623838\n",
      "RMSE: 7.680602382840842, MSE: 58.991652963300425\n",
      "RMSE: 11.749534935659145, MSE: 138.05157120427475\n",
      "RMSE: 7.687553348823442, MSE: 59.09847649100653\n",
      "Average RMSE: 8.7036070536675, RMSE Variance: 2.8235894778201622\n",
      "\n",
      "reg_lambda: 0.01\n",
      "RMSE: 7.140616018699864, MSE: 50.98839712651311\n",
      "RMSE: 9.261311921952696, MSE: 85.77189851570314\n",
      "RMSE: 7.676440562574069, MSE: 58.92773971073249\n",
      "RMSE: 11.748515918280695, MSE: 138.02762628209487\n",
      "RMSE: 7.686836335325262, MSE: 59.08745284607671\n",
      "Average RMSE: 8.702744151366518, RMSE Variance: 2.822867132079941\n",
      "\n",
      "reg_lambda: 0.1\n",
      "RMSE: 7.170115959910152, MSE: 51.41056287855828\n",
      "RMSE: 9.260417970213503, MSE: 85.75534098305316\n",
      "RMSE: 7.650324893571293, MSE: 58.527470977196614\n",
      "RMSE: 11.739875387397467, MSE: 137.82467411162082\n",
      "RMSE: 7.686377357335927, MSE: 59.08039687936644\n",
      "Average RMSE: 8.701422313685669, RMSE Variance: 2.8049388848522137\n",
      "\n",
      "reg_lambda: 1\n",
      "RMSE: 7.85798053582691, MSE: 61.74785810143458\n",
      "RMSE: 9.494555831260822, MSE: 90.14659043292889\n",
      "RMSE: 7.7971484100479955, MSE: 60.79552332831398\n",
      "RMSE: 11.83465266395028, MSE: 140.05900367634544\n",
      "RMSE: 7.945761274837436, MSE: 63.135122236706245\n",
      "Average RMSE: 8.98601974318469, RMSE Variance: 2.428268730240807\n",
      "\n",
      "reg_lambda: 10\n",
      "RMSE: 18.250369451533302, MSE: 333.07598511745994\n",
      "RMSE: 19.86101174885034, MSE: 394.4597876879713\n",
      "RMSE: 15.843729641778783, MSE: 251.02376896177964\n",
      "RMSE: 18.325585566482967, MSE: 335.8270863544889\n",
      "RMSE: 16.99801665645769, MSE: 288.93257025321304\n",
      "Average RMSE: 17.855742613020617, RMSE Variance: 1.8362954125422426\n",
      "\n",
      "reg_lambda: 100\n",
      "RMSE: 39.00086651724955, MSE: 1521.067589096317\n",
      "RMSE: 38.84026223201867, MSE: 1508.5659702519758\n",
      "RMSE: 38.38344351327622, MSE: 1473.288735936866\n",
      "RMSE: 38.58729937684019, MSE: 1488.9796731978918\n",
      "RMSE: 37.14915576212626, MSE: 1380.059773838719\n",
      "Average RMSE: 38.39220548030218, RMSE Variance: 0.43090682260927016\n",
      "\n"
     ]
    }
   ],
   "source": [
    "for reg_lambda in reg_lambdas:\n",
    "    RMSEs = []\n",
    "    MSEs = []\n",
    "    print(f'reg_lambda: {reg_lambda}')\n",
    "    for fold in five_folds:\n",
    "        X_train, y_train, X_test, y_test = fold\n",
    "\n",
    "        standard_scaler = StandardScaler()\n",
    "        X_train = standard_scaler.fit_transform(X_train)\n",
    "        X_test = standard_scaler.transform(X_test) \n",
    "\n",
    "        X_train = add_ones(X_train)\n",
    "        X_test = add_ones(X_test)\n",
    "\n",
    "        LR = LinearRegression(learning_rate=0.1, epochs=1000, early_stopping=True, regularization='Lasso', reg_lambda=reg_lambda)\n",
    "        LR.fit(X_train, y_train)\n",
    "        params = LR.get_params()\n",
    "\n",
    "        rmse, mse = evaluate_model(X_test, y_test, params)\n",
    "\n",
    "        RMSEs.append(rmse)\n",
    "        MSEs.append(mse)\n",
    "\n",
    "        print('RMSE: {}, MSE: {}'.format(rmse, mse))\n",
    "    print(f\"Average RMSE: {np.mean(RMSEs)}, RMSE Variance: {np.var(RMSEs)}\")\n",
    "    print()"
   ]
  },
  {
   "cell_type": "markdown",
   "metadata": {},
   "source": [
    "# Normal Form"
   ]
  },
  {
   "cell_type": "markdown",
   "metadata": {},
   "source": [
    "K = 2"
   ]
  },
  {
   "cell_type": "code",
   "execution_count": 31,
   "metadata": {},
   "outputs": [
    {
     "name": "stdout",
     "output_type": "stream",
     "text": [
      "RMSE: 8.175738783272324, MSE: 66.84270465230323\n",
      "RMSE: 9.633509564838526, MSE: 92.80450653583539\n",
      "Average RMSE: 8.904624174055424, Average MSE: 79.8236055940693\n"
     ]
    }
   ],
   "source": [
    "RMSEs = []\n",
    "MSEs = []\n",
    "for fold in two_folds:\n",
    "    X_train, y_train, X_test, y_test = fold\n",
    "    params = solveNormalEquation(X_train, y_train)\n",
    "    rmse, mse = evaluate_model(X_test, y_test, params)\n",
    "    RMSEs.append(rmse)\n",
    "    MSEs.append(mse)\n",
    "    print('RMSE: {}, MSE: {}'.format(rmse, mse))\n",
    "print(f\"Average RMSE: {np.mean(RMSEs)}, Average MSE: {np.mean(MSEs)}\")"
   ]
  },
  {
   "cell_type": "markdown",
   "metadata": {},
   "source": [
    "K = 3"
   ]
  },
  {
   "cell_type": "code",
   "execution_count": 32,
   "metadata": {},
   "outputs": [
    {
     "name": "stdout",
     "output_type": "stream",
     "text": [
      "RMSE: 8.272138626719427, MSE: 68.42827745966356\n",
      "RMSE: 10.147518357987865, MSE: 102.97212882570075\n",
      "RMSE: 8.150592907894223, MSE: 66.43216475021562\n",
      "Average RMSE: 8.856749964200505, Average MSE: 79.27752367852663\n"
     ]
    }
   ],
   "source": [
    "RMSEs = []\n",
    "MSEs = []\n",
    "for fold in three_folds:\n",
    "    X_train, y_train, X_test, y_test = fold\n",
    "    params = solveNormalEquation(X_train, y_train)\n",
    "    rmse, mse = evaluate_model(X_test, y_test, params)\n",
    "    RMSEs.append(rmse)\n",
    "    MSEs.append(mse)\n",
    "    print('RMSE: {}, MSE: {}'.format(rmse, mse))\n",
    "print(f\"Average RMSE: {np.mean(RMSEs)}, Average MSE: {np.mean(MSEs)}\")"
   ]
  },
  {
   "cell_type": "markdown",
   "metadata": {},
   "source": [
    "K = 4"
   ]
  },
  {
   "cell_type": "code",
   "execution_count": 33,
   "metadata": {},
   "outputs": [
    {
     "name": "stdout",
     "output_type": "stream",
     "text": [
      "RMSE: 7.0478014080862526, MSE: 49.67150468782256\n",
      "RMSE: 9.159832301542467, MSE: 83.90252779238078\n",
      "RMSE: 10.835062319531874, MSE: 117.39857546813944\n",
      "RMSE: 8.291573047758881, MSE: 68.7501836063215\n",
      "Average RMSE: 8.833567269229869, Average MSE: 79.93069788866607\n"
     ]
    }
   ],
   "source": [
    "RMSEs = []\n",
    "MSEs = []\n",
    "for fold in four_folds:\n",
    "    X_train, y_train, X_test, y_test = fold\n",
    "    params = solveNormalEquation(X_train, y_train)\n",
    "    rmse, mse = evaluate_model(X_test, y_test, params)\n",
    "    RMSEs.append(rmse)\n",
    "    MSEs.append(mse)\n",
    "    print('RMSE: {}, MSE: {}'.format(rmse, mse))\n",
    "print(f\"Average RMSE: {np.mean(RMSEs)}, Average MSE: {np.mean(MSEs)}\")"
   ]
  },
  {
   "cell_type": "code",
   "execution_count": 34,
   "metadata": {},
   "outputs": [
    {
     "name": "stdout",
     "output_type": "stream",
     "text": [
      "RMSE: 7.15465365030286, MSE: 51.18906885579204\n",
      "RMSE: 9.266839756448137, MSE: 85.87431907168776\n",
      "RMSE: 7.695705437572973, MSE: 59.22388218189022\n",
      "RMSE: 11.724728270732339, MSE: 137.46925302251015\n",
      "RMSE: 7.693396778376939, MSE: 59.18835398954066\n",
      "Average RMSE: 8.707064778686648, Average MSE: 78.58897542428416\n"
     ]
    }
   ],
   "source": [
    "RMSEs = []\n",
    "MSEs = []\n",
    "for fold in five_folds:\n",
    "    X_train, y_train, X_test, y_test = fold\n",
    "    params = solveNormalEquation(X_train, y_train)\n",
    "    rmse, mse = evaluate_model(X_test, y_test, params)\n",
    "    RMSEs.append(rmse)\n",
    "    MSEs.append(mse)\n",
    "    print('RMSE: {}, MSE: {}'.format(rmse, mse))\n",
    "print(f\"Average RMSE: {np.mean(RMSEs)}, Average MSE: {np.mean(MSEs)}\")"
   ]
  }
 ],
 "metadata": {
  "kernelspec": {
   "display_name": "Python 3.9.13 64-bit (microsoft store)",
   "language": "python",
   "name": "python3"
  },
  "language_info": {
   "codemirror_mode": {
    "name": "ipython",
    "version": 3
   },
   "file_extension": ".py",
   "mimetype": "text/x-python",
   "name": "python",
   "nbconvert_exporter": "python",
   "pygments_lexer": "ipython3",
   "version": "3.9.13"
  },
  "orig_nbformat": 4,
  "vscode": {
   "interpreter": {
    "hash": "a5a87ee616be0254e3f1af9223138e3faeac65b2c9d91bc22a9fc5a4a8bd8eb0"
   }
  }
 },
 "nbformat": 4,
 "nbformat_minor": 2
}
