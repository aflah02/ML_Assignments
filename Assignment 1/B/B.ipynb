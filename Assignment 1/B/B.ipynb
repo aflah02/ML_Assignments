{
 "cells": [
  {
   "cell_type": "code",
   "execution_count": 1,
   "metadata": {},
   "outputs": [],
   "source": [
    "import pandas as pd\n",
    "import numpy as np\n",
    "import matplotlib.pyplot as plt\n",
    "from kfold import two_fold_split, three_fold_split, four_fold_split, five_fold_split\n",
    "from normalizers import MinMaxNormalizer, StandardScaler\n",
    "from metrics import MSE, RMSE\n",
    "from LR_Model import LinearRegression\n",
    "from plot_utils import plot_RMSEs"
   ]
  },
  {
   "cell_type": "code",
   "execution_count": 2,
   "metadata": {},
   "outputs": [],
   "source": [
    "df_data = pd.read_csv('Real estate.csv', index_col=0)"
   ]
  },
  {
   "cell_type": "code",
   "execution_count": 3,
   "metadata": {},
   "outputs": [
    {
     "data": {
      "text/html": [
       "<div>\n",
       "<style scoped>\n",
       "    .dataframe tbody tr th:only-of-type {\n",
       "        vertical-align: middle;\n",
       "    }\n",
       "\n",
       "    .dataframe tbody tr th {\n",
       "        vertical-align: top;\n",
       "    }\n",
       "\n",
       "    .dataframe thead th {\n",
       "        text-align: right;\n",
       "    }\n",
       "</style>\n",
       "<table border=\"1\" class=\"dataframe\">\n",
       "  <thead>\n",
       "    <tr style=\"text-align: right;\">\n",
       "      <th></th>\n",
       "      <th>X1 transaction date</th>\n",
       "      <th>X2 house age</th>\n",
       "      <th>X3 distance to the nearest MRT station</th>\n",
       "      <th>X4 number of convenience stores</th>\n",
       "      <th>X5 latitude</th>\n",
       "      <th>X6 longitude</th>\n",
       "      <th>Y house price of unit area</th>\n",
       "    </tr>\n",
       "    <tr>\n",
       "      <th>No</th>\n",
       "      <th></th>\n",
       "      <th></th>\n",
       "      <th></th>\n",
       "      <th></th>\n",
       "      <th></th>\n",
       "      <th></th>\n",
       "      <th></th>\n",
       "    </tr>\n",
       "  </thead>\n",
       "  <tbody>\n",
       "    <tr>\n",
       "      <th>1</th>\n",
       "      <td>2012.917</td>\n",
       "      <td>32.0</td>\n",
       "      <td>84.87882</td>\n",
       "      <td>10</td>\n",
       "      <td>24.98298</td>\n",
       "      <td>121.54024</td>\n",
       "      <td>37.9</td>\n",
       "    </tr>\n",
       "    <tr>\n",
       "      <th>2</th>\n",
       "      <td>2012.917</td>\n",
       "      <td>19.5</td>\n",
       "      <td>306.59470</td>\n",
       "      <td>9</td>\n",
       "      <td>24.98034</td>\n",
       "      <td>121.53951</td>\n",
       "      <td>42.2</td>\n",
       "    </tr>\n",
       "    <tr>\n",
       "      <th>3</th>\n",
       "      <td>2013.583</td>\n",
       "      <td>13.3</td>\n",
       "      <td>561.98450</td>\n",
       "      <td>5</td>\n",
       "      <td>24.98746</td>\n",
       "      <td>121.54391</td>\n",
       "      <td>47.3</td>\n",
       "    </tr>\n",
       "    <tr>\n",
       "      <th>4</th>\n",
       "      <td>2013.500</td>\n",
       "      <td>13.3</td>\n",
       "      <td>561.98450</td>\n",
       "      <td>5</td>\n",
       "      <td>24.98746</td>\n",
       "      <td>121.54391</td>\n",
       "      <td>54.8</td>\n",
       "    </tr>\n",
       "    <tr>\n",
       "      <th>5</th>\n",
       "      <td>2012.833</td>\n",
       "      <td>5.0</td>\n",
       "      <td>390.56840</td>\n",
       "      <td>5</td>\n",
       "      <td>24.97937</td>\n",
       "      <td>121.54245</td>\n",
       "      <td>43.1</td>\n",
       "    </tr>\n",
       "    <tr>\n",
       "      <th>...</th>\n",
       "      <td>...</td>\n",
       "      <td>...</td>\n",
       "      <td>...</td>\n",
       "      <td>...</td>\n",
       "      <td>...</td>\n",
       "      <td>...</td>\n",
       "      <td>...</td>\n",
       "    </tr>\n",
       "    <tr>\n",
       "      <th>410</th>\n",
       "      <td>2013.000</td>\n",
       "      <td>13.7</td>\n",
       "      <td>4082.01500</td>\n",
       "      <td>0</td>\n",
       "      <td>24.94155</td>\n",
       "      <td>121.50381</td>\n",
       "      <td>15.4</td>\n",
       "    </tr>\n",
       "    <tr>\n",
       "      <th>411</th>\n",
       "      <td>2012.667</td>\n",
       "      <td>5.6</td>\n",
       "      <td>90.45606</td>\n",
       "      <td>9</td>\n",
       "      <td>24.97433</td>\n",
       "      <td>121.54310</td>\n",
       "      <td>50.0</td>\n",
       "    </tr>\n",
       "    <tr>\n",
       "      <th>412</th>\n",
       "      <td>2013.250</td>\n",
       "      <td>18.8</td>\n",
       "      <td>390.96960</td>\n",
       "      <td>7</td>\n",
       "      <td>24.97923</td>\n",
       "      <td>121.53986</td>\n",
       "      <td>40.6</td>\n",
       "    </tr>\n",
       "    <tr>\n",
       "      <th>413</th>\n",
       "      <td>2013.000</td>\n",
       "      <td>8.1</td>\n",
       "      <td>104.81010</td>\n",
       "      <td>5</td>\n",
       "      <td>24.96674</td>\n",
       "      <td>121.54067</td>\n",
       "      <td>52.5</td>\n",
       "    </tr>\n",
       "    <tr>\n",
       "      <th>414</th>\n",
       "      <td>2013.500</td>\n",
       "      <td>6.5</td>\n",
       "      <td>90.45606</td>\n",
       "      <td>9</td>\n",
       "      <td>24.97433</td>\n",
       "      <td>121.54310</td>\n",
       "      <td>63.9</td>\n",
       "    </tr>\n",
       "  </tbody>\n",
       "</table>\n",
       "<p>414 rows × 7 columns</p>\n",
       "</div>"
      ],
      "text/plain": [
       "     X1 transaction date  X2 house age  \\\n",
       "No                                       \n",
       "1               2012.917          32.0   \n",
       "2               2012.917          19.5   \n",
       "3               2013.583          13.3   \n",
       "4               2013.500          13.3   \n",
       "5               2012.833           5.0   \n",
       "..                   ...           ...   \n",
       "410             2013.000          13.7   \n",
       "411             2012.667           5.6   \n",
       "412             2013.250          18.8   \n",
       "413             2013.000           8.1   \n",
       "414             2013.500           6.5   \n",
       "\n",
       "     X3 distance to the nearest MRT station  X4 number of convenience stores  \\\n",
       "No                                                                             \n",
       "1                                  84.87882                               10   \n",
       "2                                 306.59470                                9   \n",
       "3                                 561.98450                                5   \n",
       "4                                 561.98450                                5   \n",
       "5                                 390.56840                                5   \n",
       "..                                      ...                              ...   \n",
       "410                              4082.01500                                0   \n",
       "411                                90.45606                                9   \n",
       "412                               390.96960                                7   \n",
       "413                               104.81010                                5   \n",
       "414                                90.45606                                9   \n",
       "\n",
       "     X5 latitude  X6 longitude  Y house price of unit area  \n",
       "No                                                          \n",
       "1       24.98298     121.54024                        37.9  \n",
       "2       24.98034     121.53951                        42.2  \n",
       "3       24.98746     121.54391                        47.3  \n",
       "4       24.98746     121.54391                        54.8  \n",
       "5       24.97937     121.54245                        43.1  \n",
       "..           ...           ...                         ...  \n",
       "410     24.94155     121.50381                        15.4  \n",
       "411     24.97433     121.54310                        50.0  \n",
       "412     24.97923     121.53986                        40.6  \n",
       "413     24.96674     121.54067                        52.5  \n",
       "414     24.97433     121.54310                        63.9  \n",
       "\n",
       "[414 rows x 7 columns]"
      ]
     },
     "execution_count": 3,
     "metadata": {},
     "output_type": "execute_result"
    }
   ],
   "source": [
    "df_data"
   ]
  },
  {
   "cell_type": "code",
   "execution_count": 4,
   "metadata": {},
   "outputs": [],
   "source": [
    "df_data['Years since'] = df_data['X1 transaction date'].apply(lambda x: 2018 - int(str(x).split('.')[0]))"
   ]
  },
  {
   "cell_type": "code",
   "execution_count": 5,
   "metadata": {},
   "outputs": [
    {
     "data": {
      "text/html": [
       "<div>\n",
       "<style scoped>\n",
       "    .dataframe tbody tr th:only-of-type {\n",
       "        vertical-align: middle;\n",
       "    }\n",
       "\n",
       "    .dataframe tbody tr th {\n",
       "        vertical-align: top;\n",
       "    }\n",
       "\n",
       "    .dataframe thead th {\n",
       "        text-align: right;\n",
       "    }\n",
       "</style>\n",
       "<table border=\"1\" class=\"dataframe\">\n",
       "  <thead>\n",
       "    <tr style=\"text-align: right;\">\n",
       "      <th></th>\n",
       "      <th>X1 transaction date</th>\n",
       "      <th>X2 house age</th>\n",
       "      <th>X3 distance to the nearest MRT station</th>\n",
       "      <th>X4 number of convenience stores</th>\n",
       "      <th>X5 latitude</th>\n",
       "      <th>X6 longitude</th>\n",
       "      <th>Y house price of unit area</th>\n",
       "      <th>Years since</th>\n",
       "    </tr>\n",
       "    <tr>\n",
       "      <th>No</th>\n",
       "      <th></th>\n",
       "      <th></th>\n",
       "      <th></th>\n",
       "      <th></th>\n",
       "      <th></th>\n",
       "      <th></th>\n",
       "      <th></th>\n",
       "      <th></th>\n",
       "    </tr>\n",
       "  </thead>\n",
       "  <tbody>\n",
       "    <tr>\n",
       "      <th>1</th>\n",
       "      <td>2012.917</td>\n",
       "      <td>32.0</td>\n",
       "      <td>84.87882</td>\n",
       "      <td>10</td>\n",
       "      <td>24.98298</td>\n",
       "      <td>121.54024</td>\n",
       "      <td>37.9</td>\n",
       "      <td>6</td>\n",
       "    </tr>\n",
       "    <tr>\n",
       "      <th>2</th>\n",
       "      <td>2012.917</td>\n",
       "      <td>19.5</td>\n",
       "      <td>306.59470</td>\n",
       "      <td>9</td>\n",
       "      <td>24.98034</td>\n",
       "      <td>121.53951</td>\n",
       "      <td>42.2</td>\n",
       "      <td>6</td>\n",
       "    </tr>\n",
       "    <tr>\n",
       "      <th>3</th>\n",
       "      <td>2013.583</td>\n",
       "      <td>13.3</td>\n",
       "      <td>561.98450</td>\n",
       "      <td>5</td>\n",
       "      <td>24.98746</td>\n",
       "      <td>121.54391</td>\n",
       "      <td>47.3</td>\n",
       "      <td>5</td>\n",
       "    </tr>\n",
       "    <tr>\n",
       "      <th>4</th>\n",
       "      <td>2013.500</td>\n",
       "      <td>13.3</td>\n",
       "      <td>561.98450</td>\n",
       "      <td>5</td>\n",
       "      <td>24.98746</td>\n",
       "      <td>121.54391</td>\n",
       "      <td>54.8</td>\n",
       "      <td>5</td>\n",
       "    </tr>\n",
       "    <tr>\n",
       "      <th>5</th>\n",
       "      <td>2012.833</td>\n",
       "      <td>5.0</td>\n",
       "      <td>390.56840</td>\n",
       "      <td>5</td>\n",
       "      <td>24.97937</td>\n",
       "      <td>121.54245</td>\n",
       "      <td>43.1</td>\n",
       "      <td>6</td>\n",
       "    </tr>\n",
       "    <tr>\n",
       "      <th>...</th>\n",
       "      <td>...</td>\n",
       "      <td>...</td>\n",
       "      <td>...</td>\n",
       "      <td>...</td>\n",
       "      <td>...</td>\n",
       "      <td>...</td>\n",
       "      <td>...</td>\n",
       "      <td>...</td>\n",
       "    </tr>\n",
       "    <tr>\n",
       "      <th>410</th>\n",
       "      <td>2013.000</td>\n",
       "      <td>13.7</td>\n",
       "      <td>4082.01500</td>\n",
       "      <td>0</td>\n",
       "      <td>24.94155</td>\n",
       "      <td>121.50381</td>\n",
       "      <td>15.4</td>\n",
       "      <td>5</td>\n",
       "    </tr>\n",
       "    <tr>\n",
       "      <th>411</th>\n",
       "      <td>2012.667</td>\n",
       "      <td>5.6</td>\n",
       "      <td>90.45606</td>\n",
       "      <td>9</td>\n",
       "      <td>24.97433</td>\n",
       "      <td>121.54310</td>\n",
       "      <td>50.0</td>\n",
       "      <td>6</td>\n",
       "    </tr>\n",
       "    <tr>\n",
       "      <th>412</th>\n",
       "      <td>2013.250</td>\n",
       "      <td>18.8</td>\n",
       "      <td>390.96960</td>\n",
       "      <td>7</td>\n",
       "      <td>24.97923</td>\n",
       "      <td>121.53986</td>\n",
       "      <td>40.6</td>\n",
       "      <td>5</td>\n",
       "    </tr>\n",
       "    <tr>\n",
       "      <th>413</th>\n",
       "      <td>2013.000</td>\n",
       "      <td>8.1</td>\n",
       "      <td>104.81010</td>\n",
       "      <td>5</td>\n",
       "      <td>24.96674</td>\n",
       "      <td>121.54067</td>\n",
       "      <td>52.5</td>\n",
       "      <td>5</td>\n",
       "    </tr>\n",
       "    <tr>\n",
       "      <th>414</th>\n",
       "      <td>2013.500</td>\n",
       "      <td>6.5</td>\n",
       "      <td>90.45606</td>\n",
       "      <td>9</td>\n",
       "      <td>24.97433</td>\n",
       "      <td>121.54310</td>\n",
       "      <td>63.9</td>\n",
       "      <td>5</td>\n",
       "    </tr>\n",
       "  </tbody>\n",
       "</table>\n",
       "<p>414 rows × 8 columns</p>\n",
       "</div>"
      ],
      "text/plain": [
       "     X1 transaction date  X2 house age  \\\n",
       "No                                       \n",
       "1               2012.917          32.0   \n",
       "2               2012.917          19.5   \n",
       "3               2013.583          13.3   \n",
       "4               2013.500          13.3   \n",
       "5               2012.833           5.0   \n",
       "..                   ...           ...   \n",
       "410             2013.000          13.7   \n",
       "411             2012.667           5.6   \n",
       "412             2013.250          18.8   \n",
       "413             2013.000           8.1   \n",
       "414             2013.500           6.5   \n",
       "\n",
       "     X3 distance to the nearest MRT station  X4 number of convenience stores  \\\n",
       "No                                                                             \n",
       "1                                  84.87882                               10   \n",
       "2                                 306.59470                                9   \n",
       "3                                 561.98450                                5   \n",
       "4                                 561.98450                                5   \n",
       "5                                 390.56840                                5   \n",
       "..                                      ...                              ...   \n",
       "410                              4082.01500                                0   \n",
       "411                                90.45606                                9   \n",
       "412                               390.96960                                7   \n",
       "413                               104.81010                                5   \n",
       "414                                90.45606                                9   \n",
       "\n",
       "     X5 latitude  X6 longitude  Y house price of unit area  Years since  \n",
       "No                                                                       \n",
       "1       24.98298     121.54024                        37.9            6  \n",
       "2       24.98034     121.53951                        42.2            6  \n",
       "3       24.98746     121.54391                        47.3            5  \n",
       "4       24.98746     121.54391                        54.8            5  \n",
       "5       24.97937     121.54245                        43.1            6  \n",
       "..           ...           ...                         ...          ...  \n",
       "410     24.94155     121.50381                        15.4            5  \n",
       "411     24.97433     121.54310                        50.0            6  \n",
       "412     24.97923     121.53986                        40.6            5  \n",
       "413     24.96674     121.54067                        52.5            5  \n",
       "414     24.97433     121.54310                        63.9            5  \n",
       "\n",
       "[414 rows x 8 columns]"
      ]
     },
     "execution_count": 5,
     "metadata": {},
     "output_type": "execute_result"
    }
   ],
   "source": [
    "df_data"
   ]
  },
  {
   "cell_type": "code",
   "execution_count": 6,
   "metadata": {},
   "outputs": [],
   "source": [
    "X = df_data.drop(columns=['Y house price of unit area', 'X1 transaction date'])\n",
    "y = df_data['Y house price of unit area']"
   ]
  },
  {
   "cell_type": "code",
   "execution_count": 7,
   "metadata": {},
   "outputs": [],
   "source": [
    "two_folds = two_fold_split(X, y)\n",
    "three_folds = three_fold_split(X, y)\n",
    "four_folds = four_fold_split(X, y)\n",
    "five_folds = five_fold_split(X, y)"
   ]
  },
  {
   "cell_type": "code",
   "execution_count": 8,
   "metadata": {},
   "outputs": [],
   "source": [
    "def add_ones(X):\n",
    "    return np.concatenate((np.ones((X.shape[0], 1)), X), axis=1)"
   ]
  },
  {
   "cell_type": "code",
   "execution_count": 9,
   "metadata": {},
   "outputs": [],
   "source": [
    "def solveNormalEquation(X, y):\n",
    "    \"\"\"\n",
    "    Implementation of a function to solve the normal equation\n",
    "\n",
    "    Args:\n",
    "        X: Data to solve\n",
    "        y: Labels to solve\n",
    "\n",
    "    Returns:\n",
    "        The solution to the normal equation\n",
    "    \"\"\"\n",
    "    # X = add_ones(X)\n",
    "    params = np.linalg.inv(X.T.dot(X)).dot(X.T).dot(y)\n",
    "    return params"
   ]
  },
  {
   "cell_type": "code",
   "execution_count": 10,
   "metadata": {},
   "outputs": [],
   "source": [
    "def evaluate_model(X, y, params):\n",
    "    \"\"\"\n",
    "    Implementation of a function to evaluate the model\n",
    "\n",
    "    Args:\n",
    "        X: Data to evaluate\n",
    "        y: Labels to evaluate\n",
    "        params: Parameters of the model\n",
    "\n",
    "    Returns:\n",
    "        The evaluation of the model\n",
    "    \"\"\"\n",
    "    y_pred = X.dot(params)\n",
    "    return RMSE(y, y_pred), MSE(y, y_pred)"
   ]
  },
  {
   "cell_type": "markdown",
   "metadata": {},
   "source": [
    "# Gradient Descent"
   ]
  },
  {
   "cell_type": "code",
   "execution_count": 11,
   "metadata": {},
   "outputs": [],
   "source": [
    "learning_rates = [0.0001, 0.001, 0.01, 0.1, 1, 10]"
   ]
  },
  {
   "cell_type": "markdown",
   "metadata": {},
   "source": [
    "K = 2"
   ]
  },
  {
   "cell_type": "code",
   "execution_count": 26,
   "metadata": {},
   "outputs": [
    {
     "name": "stdout",
     "output_type": "stream",
     "text": [
      "Learning Rate: 0.0001\n",
      "Validation RMSE: 36.214587773310285, Validation MSE: 1311.496367590795\n",
      "Validation RMSE: 35.816254490787934, Validation MSE: 1282.804085748887\n",
      "For Validation - Average RMSE: 36.01542113204911, RMSE Variance: 0.039667350991257844\n",
      "For Training - Average RMSE: 36.006943388218325, RMSE Variance: 0.008231790478827305\n",
      "\n",
      "Learning Rate: 0.001\n",
      "Validation RMSE: 16.640112872492434, Validation MSE: 276.89335640928846\n",
      "Validation RMSE: 16.462243939582923, Validation MSE: 271.0054755263347\n",
      "For Validation - Average RMSE: 16.55117840603768, RMSE Variance: 0.007909339323592082\n",
      "For Training - Average RMSE: 16.485028188659257, RMSE Variance: 0.09449232445420529\n",
      "\n",
      "Learning Rate: 0.01\n",
      "Validation RMSE: 8.165105652285218, Validation MSE: 66.66895031298003\n",
      "Validation RMSE: 9.629049634769604, Validation MSE: 92.71859686885664\n",
      "For Validation - Average RMSE: 8.89707764352741, RMSE Variance: 0.5357829959630609\n",
      "For Training - Average RMSE: 8.730389008224652, RMSE Variance: 0.5452806822784588\n",
      "\n",
      "Learning Rate: 0.1\n",
      "Validation RMSE: 8.168424487404579, Validation MSE: 66.72315860643076\n",
      "Validation RMSE: 9.625700471314298, Validation MSE: 92.6541095634603\n",
      "For Validation - Average RMSE: 8.897062479359438, RMSE Variance: 0.5309133233200101\n",
      "For Training - Average RMSE: 8.72207890775826, RMSE Variance: 0.5513249722704459\n",
      "\n",
      "Learning Rate: 1\n",
      "Validation RMSE: 84.49480716852257, Validation MSE: 7139.372438445812\n",
      "Validation RMSE: 177.42715001441903, Validation MSE: 31480.39356223916\n",
      "For Validation - Average RMSE: 130.9609785914708, RMSE Variance: 2159.1050867068107\n",
      "For Training - Average RMSE: 136.48227609371898, RMSE Variance: 3632.430171015308\n",
      "\n",
      "Learning Rate: 10\n",
      "Validation RMSE: 84579413.46265303, Validation MSE: 7153677181686411.0\n",
      "Validation RMSE: 132325038.06850511, Validation MSE: 1.7509915699831328e+16\n",
      "For Validation - Average RMSE: 108452225.76557907, RMSE Variance: 569911167250737.0\n",
      "For Training - Average RMSE: 111524875.97735351, RMSE Variance: 1212886059753292.5\n",
      "\n"
     ]
    }
   ],
   "source": [
    "for learning_rate in learning_rates:\n",
    "    valRMSEs = []\n",
    "    valMSEs = []\n",
    "    trainRMSEs = []\n",
    "    trainMSEs = []\n",
    "    print(f'Learning Rate: {learning_rate}')\n",
    "    for fold in two_folds:\n",
    "        X_train, y_train, X_test, y_test = fold\n",
    "\n",
    "        standard_scaler = StandardScaler()\n",
    "        X_train = standard_scaler.fit_transform(X_train)\n",
    "        X_test = standard_scaler.transform(X_test) \n",
    "\n",
    "        X_train = add_ones(X_train)\n",
    "        X_test = add_ones(X_test)\n",
    "\n",
    "        LR = LinearRegression(learning_rate=learning_rate, epochs=1000, early_stopping=True)\n",
    "        LR.fit(X_train, y_train)\n",
    "        params = LR.get_params()\n",
    "\n",
    "        rmse_val, mse_val = evaluate_model(X_test, y_test, params)\n",
    "\n",
    "        valRMSEs.append(rmse_val)\n",
    "        valMSEs.append(mse_val)\n",
    "\n",
    "        rmse_train, mse_train = evaluate_model(X_train, y_train, params)\n",
    "        trainMSEs.append(mse_train)\n",
    "        trainRMSEs.append(rmse_train)\n",
    "        print(f\"Validation RMSE: {rmse_val}, Validation MSE: {mse_val}\")\n",
    "        # print(f\"Training RMSE: {rmse_train}, Training MSE: {mse_train}\")\n",
    "    print(f\"For Validation - Average RMSE: {np.mean(valRMSEs)}, RMSE Variance: {np.var(valRMSEs)}\")\n",
    "    # print(f\"For Validation - Average MSE: {np.mean(mse_val)}, MSE Variance: {np.var(mse_val)}\")\n",
    "    print(f\"For Training - Average RMSE: {np.mean(trainRMSEs)}, RMSE Variance: {np.var(trainRMSEs)}\")\n",
    "    # print(f\"For Training - Average MSE: {np.mean(mse_train)}, MSE Variance: {np.var(mse_train)}\")\n",
    "    print()"
   ]
  },
  {
   "cell_type": "markdown",
   "metadata": {},
   "source": [
    "## As we can see a LR of 0.1 performs the best so we'll plot that and have a look"
   ]
  },
  {
   "cell_type": "code",
   "execution_count": 42,
   "metadata": {},
   "outputs": [
    {
     "name": "stdout",
     "output_type": "stream",
     "text": [
      "\n"
     ]
    }
   ],
   "source": [
    "all_trainRMSEs = []\n",
    "all_valRMSEs = []\n",
    "RMSEs = []\n",
    "MSEs = []\n",
    "for fold in two_folds:\n",
    "    X_train, y_train, X_test, y_test = fold\n",
    "    standard_scaler = StandardScaler()\n",
    "    X_train = standard_scaler.fit_transform(X_train)\n",
    "    X_test = standard_scaler.transform(X_test) \n",
    "    X_train = add_ones(X_train)\n",
    "    X_test = add_ones(X_test)\n",
    "    LR = LinearRegression(learning_rate=0.1, epochs=1000, early_stopping=True)\n",
    "    LR.fit(X_train, y_train, X_test, y_test)\n",
    "    params = LR.get_params()\n",
    "    all_trainRMSEs.append(LR.get_trainRMSEs())\n",
    "    all_valRMSEs.append(LR.get_valRMSEs())\n",
    "print()"
   ]
  },
  {
   "cell_type": "code",
   "execution_count": 43,
   "metadata": {},
   "outputs": [
    {
     "data": {
      "text/plain": [
       "<module 'matplotlib.pyplot' from 'C:\\\\Users\\\\ASUS\\\\AppData\\\\Local\\\\Packages\\\\PythonSoftwareFoundation.Python.3.9_qbz5n2kfra8p0\\\\LocalCache\\\\local-packages\\\\Python39\\\\site-packages\\\\matplotlib\\\\pyplot.py'>"
      ]
     },
     "execution_count": 43,
     "metadata": {},
     "output_type": "execute_result"
    },
    {
     "data": {
      "image/png": "[encoded data removed]",
      "text/plain": [
       "<Figure size 432x288 with 1 Axes>"
      ]
     },
     "metadata": {
      "needs_background": "light"
     },
     "output_type": "display_data"
    }
   ],
   "source": [
    "plot_RMSEs(all_trainRMSEs, \"Train K = 2\", \"Iterations\", \"RMSE\")"
   ]
  },
  {
   "cell_type": "code",
   "execution_count": 44,
   "metadata": {},
   "outputs": [
    {
     "data": {
      "text/plain": [
       "<module 'matplotlib.pyplot' from 'C:\\\\Users\\\\ASUS\\\\AppData\\\\Local\\\\Packages\\\\PythonSoftwareFoundation.Python.3.9_qbz5n2kfra8p0\\\\LocalCache\\\\local-packages\\\\Python39\\\\site-packages\\\\matplotlib\\\\pyplot.py'>"
      ]
     },
     "execution_count": 44,
     "metadata": {},
     "output_type": "execute_result"
    },
    {
     "data": {
      "image/png": "[encoded data removed]",
      "text/plain": [
       "<Figure size 432x288 with 1 Axes>"
      ]
     },
     "metadata": {
      "needs_background": "light"
     },
     "output_type": "display_data"
    }
   ],
   "source": [
    "plot_RMSEs(all_valRMSEs, \"Validation K = 2\", \"Iterations\", \"RMSE\")"
   ]
  },
  {
   "cell_type": "markdown",
   "metadata": {},
   "source": [
    "K = 3"
   ]
  },
  {
   "cell_type": "code",
   "execution_count": 27,
   "metadata": {},
   "outputs": [
    {
     "name": "stdout",
     "output_type": "stream",
     "text": [
      "Learning Rate: 0.0001\n",
      "Validation RMSE: 36.73947356534616, Validation MSE: 1349.7889178587693\n",
      "Validation RMSE: 36.01914827001337, Validation MSE: 1297.379042097207\n",
      "Validation RMSE: 35.2821101665008, Validation MSE: 1244.8272978010991\n",
      "For Validation - Average RMSE: 36.01357733395344, RMSE Variance: 0.35400019704664154\n",
      "For Training - Average RMSE: 36.00837256368507, RMSE Variance: 0.07546264074810426\n",
      "\n",
      "Learning Rate: 0.001\n",
      "Validation RMSE: 16.860427062435036, Validation MSE: 284.27400072769177\n",
      "Validation RMSE: 17.319894362286966, Validation MSE: 299.9787407207798\n",
      "Validation RMSE: 15.41354709832028, Validation MSE: 237.57743415213753\n",
      "For Validation - Average RMSE: 16.53128950768076, RMSE Variance: 0.6598590801136908\n",
      "For Training - Average RMSE: 16.494837105934213, RMSE Variance: 0.04413064494311388\n",
      "\n",
      "Learning Rate: 0.01\n",
      "Validation RMSE: 8.242068626301526, Validation MSE: 67.93169524066393\n",
      "Validation RMSE: 10.204615502512498, Validation MSE: 104.13417755411841\n",
      "Validation RMSE: 8.161705523576071, Validation MSE: 66.61343705357214\n",
      "For Validation - Average RMSE: 8.869463217463364, RMSE Variance: 0.8923921835159042\n",
      "For Training - Average RMSE: 8.76597999848935, RMSE Variance: 0.2532398878078531\n",
      "\n",
      "Learning Rate: 0.1\n",
      "Validation RMSE: 8.271321570215122, Validation MSE: 68.41476051790593\n",
      "Validation RMSE: 10.183123066303592, Validation MSE: 103.69599538348426\n",
      "Validation RMSE: 8.141517410338379, Validation MSE: 66.28430574284293\n",
      "For Validation - Average RMSE: 8.865320682285699, RMSE Variance: 0.8711097483151744\n",
      "For Training - Average RMSE: 8.759110006687623, RMSE Variance: 0.2525193207292788\n",
      "\n",
      "Learning Rate: 1\n",
      "Validation RMSE: 103.17415587379234, Validation MSE: 10644.9064402696\n",
      "Validation RMSE: 127.9426682042143, Validation MSE: 16369.32634721367\n",
      "Validation RMSE: 146.22767154381745, Validation MSE: 21382.531925126557\n",
      "For Validation - Average RMSE: 125.78149854060803, RMSE Variance: 311.2695290822956\n",
      "For Training - Average RMSE: 127.44464405039685, RMSE Variance: 645.4994190573913\n",
      "\n",
      "Learning Rate: 10\n",
      "Validation RMSE: 94557103.07437143, Validation MSE: 8941045741817303.0\n",
      "Validation RMSE: 110768660.16529907, Validation MSE: 1.2269696074815514e+16\n",
      "Validation RMSE: 116061654.17822073, Validation MSE: 1.3470307570584902e+16\n",
      "For Validation - Average RMSE: 107129139.13929708, RMSE Variance: 83697343012366.38\n",
      "For Training - Average RMSE: 108118050.53500135, RMSE Variance: 224593803509508.03\n",
      "\n"
     ]
    }
   ],
   "source": [
    "for learning_rate in learning_rates:\n",
    "    valRMSEs = []\n",
    "    valMSEs = []\n",
    "    trainRMSEs = []\n",
    "    trainMSEs = []\n",
    "    print(f'Learning Rate: {learning_rate}')\n",
    "    for fold in three_folds:\n",
    "        X_train, y_train, X_test, y_test = fold\n",
    "\n",
    "        standard_scaler = StandardScaler()\n",
    "        X_train = standard_scaler.fit_transform(X_train)\n",
    "        X_test = standard_scaler.transform(X_test) \n",
    "\n",
    "        X_train = add_ones(X_train)\n",
    "        X_test = add_ones(X_test)\n",
    "\n",
    "        LR = LinearRegression(learning_rate=learning_rate, epochs=1000, early_stopping=True)\n",
    "        LR.fit(X_train, y_train)\n",
    "        params = LR.get_params()\n",
    "\n",
    "        rmse_val, mse_val = evaluate_model(X_test, y_test, params)\n",
    "\n",
    "        valRMSEs.append(rmse_val)\n",
    "        valMSEs.append(mse_val)\n",
    "\n",
    "        rmse_train, mse_train = evaluate_model(X_train, y_train, params)\n",
    "        trainMSEs.append(mse_train)\n",
    "        trainRMSEs.append(rmse_train)\n",
    "        print(f\"Validation RMSE: {rmse_val}, Validation MSE: {mse_val}\")\n",
    "        # print(f\"Training RMSE: {rmse_train}, Training MSE: {mse_train}\")\n",
    "    print(f\"For Validation - Average RMSE: {np.mean(valRMSEs)}, RMSE Variance: {np.var(valRMSEs)}\")\n",
    "    # print(f\"For Validation - Average MSE: {np.mean(mse_val)}, MSE Variance: {np.var(mse_val)}\")\n",
    "    print(f\"For Training - Average RMSE: {np.mean(trainRMSEs)}, RMSE Variance: {np.var(trainRMSEs)}\")\n",
    "    # print(f\"For Training - Average MSE: {np.mean(mse_train)}, MSE Variance: {np.var(mse_train)}\")\n",
    "    print()"
   ]
  },
  {
   "cell_type": "markdown",
   "metadata": {},
   "source": [
    "## As we can see a LR of 0.1 performs the best so we'll plot that and have a look"
   ]
  },
  {
   "cell_type": "code",
   "execution_count": 45,
   "metadata": {},
   "outputs": [
    {
     "name": "stdout",
     "output_type": "stream",
     "text": [
      "\n"
     ]
    }
   ],
   "source": [
    "all_trainRMSEs = []\n",
    "all_valRMSEs = []\n",
    "RMSEs = []\n",
    "MSEs = []\n",
    "for fold in three_folds:\n",
    "    X_train, y_train, X_test, y_test = fold\n",
    "    standard_scaler = StandardScaler()\n",
    "    X_train = standard_scaler.fit_transform(X_train)\n",
    "    X_test = standard_scaler.transform(X_test) \n",
    "    X_train = add_ones(X_train)\n",
    "    X_test = add_ones(X_test)\n",
    "    LR = LinearRegression(learning_rate=0.1, epochs=1000, early_stopping=True)\n",
    "    LR.fit(X_train, y_train, X_test, y_test)\n",
    "    params = LR.get_params()\n",
    "    all_trainRMSEs.append(LR.get_trainRMSEs())\n",
    "    all_valRMSEs.append(LR.get_valRMSEs())\n",
    "print()"
   ]
  },
  {
   "cell_type": "code",
   "execution_count": 46,
   "metadata": {},
   "outputs": [
    {
     "data": {
      "text/plain": [
       "<module 'matplotlib.pyplot' from 'C:\\\\Users\\\\ASUS\\\\AppData\\\\Local\\\\Packages\\\\PythonSoftwareFoundation.Python.3.9_qbz5n2kfra8p0\\\\LocalCache\\\\local-packages\\\\Python39\\\\site-packages\\\\matplotlib\\\\pyplot.py'>"
      ]
     },
     "execution_count": 46,
     "metadata": {},
     "output_type": "execute_result"
    },
    {
     "data": {
      "image/png": "[encoded data removed]",
      "text/plain": [
       "<Figure size 432x288 with 1 Axes>"
      ]
     },
     "metadata": {
      "needs_background": "light"
     },
     "output_type": "display_data"
    }
   ],
   "source": [
    "plot_RMSEs(all_trainRMSEs, \"Train K = 3\", \"Iterations\", \"RMSE\")"
   ]
  },
  {
   "cell_type": "code",
   "execution_count": 47,
   "metadata": {},
   "outputs": [
    {
     "data": {
      "text/plain": [
       "<module 'matplotlib.pyplot' from 'C:\\\\Users\\\\ASUS\\\\AppData\\\\Local\\\\Packages\\\\PythonSoftwareFoundation.Python.3.9_qbz5n2kfra8p0\\\\LocalCache\\\\local-packages\\\\Python39\\\\site-packages\\\\matplotlib\\\\pyplot.py'>"
      ]
     },
     "execution_count": 47,
     "metadata": {},
     "output_type": "execute_result"
    },
    {
     "data": {
      "image/png": "[encoded data removed]",
      "text/plain": [
       "<Figure size 432x288 with 1 Axes>"
      ]
     },
     "metadata": {
      "needs_background": "light"
     },
     "output_type": "display_data"
    }
   ],
   "source": [
    "plot_RMSEs(all_valRMSEs, \"Validation K = 3\", \"Iterations\", \"RMSE\")"
   ]
  },
  {
   "cell_type": "markdown",
   "metadata": {},
   "source": [
    "K = 4"
   ]
  },
  {
   "cell_type": "code",
   "execution_count": 36,
   "metadata": {},
   "outputs": [
    {
     "name": "stdout",
     "output_type": "stream",
     "text": [
      "Learning Rate: 0.0001\n",
      "Validation RMSE: 36.247718644869835, Validation MSE: 1313.8971069576442\n",
      "Validation RMSE: 36.09479003905462, Validation MSE: 1302.8338679634367\n",
      "Validation RMSE: 36.129290180599426, Validation MSE: 1305.3256089539582\n",
      "Validation RMSE: 35.57462579986026, Validation MSE: 1265.554000800083\n",
      "For Validation - Average RMSE: 36.01160616609603, RMSE Variance: 0.06686750677457182\n",
      "For Training - Average RMSE: 36.00972583774011, RMSE Variance: 0.0033083854204209273\n",
      "\n",
      "Learning Rate: 0.001\n",
      "Validation RMSE: 16.288022785777667, Validation MSE: 265.2996862700125\n",
      "Validation RMSE: 16.66312980076215, Validation MSE: 277.65989475704765\n",
      "Validation RMSE: 17.331599052044304, Validation MSE: 300.38432570082296\n",
      "Validation RMSE: 15.840916748486539, Validation MSE: 250.93464343248132\n",
      "For Validation - Average RMSE: 16.530917096767666, RMSE Variance: 0.2984174798856341\n",
      "For Training - Average RMSE: 16.496843437592865, RMSE Variance: 0.043591155809291134\n",
      "\n",
      "Learning Rate: 0.01\n",
      "Validation RMSE: 7.008145318250513, Validation MSE: 49.11410080171659\n",
      "Validation RMSE: 9.174003996217724, Validation MSE: 84.16234932261877\n",
      "Validation RMSE: 10.81667607230247, Validation MSE: 117.00048125312081\n",
      "Validation RMSE: 8.315327349782656, Validation MSE: 69.14466893404345\n",
      "For Validation - Average RMSE: 8.828538184138342, RMSE Variance: 1.9123136090861883\n",
      "For Training - Average RMSE: 8.77155235020286, RMSE Variance: 0.22165884619557813\n",
      "\n",
      "Learning Rate: 0.1\n",
      "Validation RMSE: 7.0322209679475005, Validation MSE: 49.452131742040486\n",
      "Validation RMSE: 9.163139481159131, Validation MSE: 83.96312515117724\n",
      "Validation RMSE: 10.82724997440253, Validation MSE: 117.22934200819961\n",
      "Validation RMSE: 8.295665929025, Validation MSE: 68.81807320598622\n",
      "For Validation - Average RMSE: 8.82956908813354, RMSE Variance: 1.9043777447275185\n",
      "For Training - Average RMSE: 8.764326266014095, RMSE Variance: 0.22346855468821888\n",
      "\n",
      "Learning Rate: 1\n",
      "Validation RMSE: 114.074140386032, Validation MSE: 13012.909504812138\n",
      "Validation RMSE: 113.98316916898824, Validation MSE: 12992.16285380619\n",
      "Validation RMSE: 137.04459222730262, Validation MSE: 18781.22025874765\n",
      "Validation RMSE: 133.73107637480547, Validation MSE: 17884.00078836405\n",
      "For Validation - Average RMSE: 124.70824453928209, RMSE Variance: 115.42709536312954\n",
      "For Training - Average RMSE: 126.59480569216929, RMSE Variance: 409.68870563037166\n",
      "\n",
      "Learning Rate: 10\n",
      "Validation RMSE: 100834937.85492922, Validation MSE: 1.016768469220744e+16\n",
      "Validation RMSE: 103833056.71478492, Validation MSE: 1.0781303666735742e+16\n",
      "Validation RMSE: 110200759.45970513, Validation MSE: 1.214420738549579e+16\n",
      "Validation RMSE: 111299088.80920602, Validation MSE: 1.238748716975953e+16\n",
      "For Validation - Average RMSE: 106541960.70965631, RMSE Variance: 18981336691672.938\n",
      "For Training - Average RMSE: 107728389.05303583, RMSE Variance: 135957993540785.97\n",
      "\n"
     ]
    }
   ],
   "source": [
    "for learning_rate in learning_rates:\n",
    "    valRMSEs = []\n",
    "    valMSEs = []\n",
    "    trainRMSEs = []\n",
    "    trainMSEs = []\n",
    "    print(f'Learning Rate: {learning_rate}')\n",
    "    for fold in four_folds:\n",
    "        X_train, y_train, X_test, y_test = fold\n",
    "\n",
    "        standard_scaler = StandardScaler()\n",
    "        X_train = standard_scaler.fit_transform(X_train)\n",
    "        X_test = standard_scaler.transform(X_test) \n",
    "\n",
    "        X_train = add_ones(X_train)\n",
    "        X_test = add_ones(X_test)\n",
    "\n",
    "        LR = LinearRegression(learning_rate=learning_rate, epochs=1000, early_stopping=True)\n",
    "        LR.fit(X_train, y_train)\n",
    "        params = LR.get_params()\n",
    "\n",
    "        rmse_val, mse_val = evaluate_model(X_test, y_test, params)\n",
    "\n",
    "        valRMSEs.append(rmse_val)\n",
    "        valMSEs.append(mse_val)\n",
    "\n",
    "        rmse_train, mse_train = evaluate_model(X_train, y_train, params)\n",
    "        trainMSEs.append(mse_train)\n",
    "        trainRMSEs.append(rmse_train)\n",
    "        print(f\"Validation RMSE: {rmse_val}, Validation MSE: {mse_val}\")\n",
    "        # print(f\"Training RMSE: {rmse_train}, Training MSE: {mse_train}\")\n",
    "    print(f\"For Validation - Average RMSE: {np.mean(valRMSEs)}, RMSE Variance: {np.var(valRMSEs)}\")\n",
    "    # print(f\"For Validation - Average MSE: {np.mean(mse_val)}, MSE Variance: {np.var(mse_val)}\")\n",
    "    print(f\"For Training - Average RMSE: {np.mean(trainRMSEs)}, RMSE Variance: {np.var(trainRMSEs)}\")\n",
    "    # print(f\"For Training - Average MSE: {np.mean(mse_train)}, MSE Variance: {np.var(mse_train)}\")\n",
    "    print()"
   ]
  },
  {
   "cell_type": "markdown",
   "metadata": {},
   "source": [
    "## As we can see a LR of 0.01 performs the best so we'll plot that and have a look"
   ]
  },
  {
   "cell_type": "code",
   "execution_count": 48,
   "metadata": {},
   "outputs": [
    {
     "name": "stdout",
     "output_type": "stream",
     "text": [
      "\n"
     ]
    }
   ],
   "source": [
    "all_trainRMSEs = []\n",
    "all_valRMSEs = []\n",
    "RMSEs = []\n",
    "MSEs = []\n",
    "for fold in four_folds:\n",
    "    X_train, y_train, X_test, y_test = fold\n",
    "    standard_scaler = StandardScaler()\n",
    "    X_train = standard_scaler.fit_transform(X_train)\n",
    "    X_test = standard_scaler.transform(X_test) \n",
    "    X_train = add_ones(X_train)\n",
    "    X_test = add_ones(X_test)\n",
    "    LR = LinearRegression(learning_rate=0.01, epochs=1000, early_stopping=True)\n",
    "    LR.fit(X_train, y_train, X_test, y_test)\n",
    "    params = LR.get_params()\n",
    "    all_trainRMSEs.append(LR.get_trainRMSEs())\n",
    "    all_valRMSEs.append(LR.get_valRMSEs())\n",
    "print()"
   ]
  },
  {
   "cell_type": "code",
   "execution_count": 49,
   "metadata": {},
   "outputs": [
    {
     "data": {
      "text/plain": [
       "<module 'matplotlib.pyplot' from 'C:\\\\Users\\\\ASUS\\\\AppData\\\\Local\\\\Packages\\\\PythonSoftwareFoundation.Python.3.9_qbz5n2kfra8p0\\\\LocalCache\\\\local-packages\\\\Python39\\\\site-packages\\\\matplotlib\\\\pyplot.py'>"
      ]
     },
     "execution_count": 49,
     "metadata": {},
     "output_type": "execute_result"
    },
    {
     "data": {
      "image/png": "[encoded data removed]",
      "text/plain": [
       "<Figure size 432x288 with 1 Axes>"
      ]
     },
     "metadata": {
      "needs_background": "light"
     },
     "output_type": "display_data"
    }
   ],
   "source": [
    "plot_RMSEs(all_trainRMSEs, \"Train K = 4\", \"Iterations\", \"RMSE\")"
   ]
  },
  {
   "cell_type": "code",
   "execution_count": 50,
   "metadata": {},
   "outputs": [
    {
     "data": {
      "text/plain": [
       "<module 'matplotlib.pyplot' from 'C:\\\\Users\\\\ASUS\\\\AppData\\\\Local\\\\Packages\\\\PythonSoftwareFoundation.Python.3.9_qbz5n2kfra8p0\\\\LocalCache\\\\local-packages\\\\Python39\\\\site-packages\\\\matplotlib\\\\pyplot.py'>"
      ]
     },
     "execution_count": 50,
     "metadata": {},
     "output_type": "execute_result"
    },
    {
     "data": {
      "image/png": "[encoded data removed]",
      "text/plain": [
       "<Figure size 432x288 with 1 Axes>"
      ]
     },
     "metadata": {
      "needs_background": "light"
     },
     "output_type": "display_data"
    }
   ],
   "source": [
    "plot_RMSEs(all_valRMSEs, \"Validation K = 4\", \"Iterations\", \"RMSE\")"
   ]
  },
  {
   "cell_type": "markdown",
   "metadata": {},
   "source": [
    "K = 5"
   ]
  },
  {
   "cell_type": "code",
   "execution_count": 51,
   "metadata": {},
   "outputs": [
    {
     "name": "stdout",
     "output_type": "stream",
     "text": [
      "Learning Rate: 0.0001\n",
      "Validation RMSE: 36.002555641050144, Validation MSE: 1296.1840126869115\n",
      "Validation RMSE: 37.18158163913651, Validation MSE: 1382.4700131877732\n",
      "Validation RMSE: 35.32325273552617, Validation MSE: 1247.7321838178568\n",
      "Validation RMSE: 36.32494644686623, Validation MSE: 1319.5017343676993\n",
      "Validation RMSE: 35.23164782644089, Validation MSE: 1241.2690085663571\n",
      "For Validation - Average RMSE: 36.01279685780399, RMSE Variance: 0.5098530038628459\n",
      "For Training - Average RMSE: 36.01050563258034, RMSE Variance: 0.033575947123506984\n",
      "\n",
      "Learning Rate: 0.001\n",
      "Validation RMSE: 15.950620949442124, Validation MSE: 254.42230867278198\n",
      "Validation RMSE: 17.688283351885264, Validation MSE: 312.8753679365814\n",
      "Validation RMSE: 15.439037097855426, Validation MSE: 238.36386650895608\n",
      "Validation RMSE: 17.745379984223877, Validation MSE: 314.89851078449345\n",
      "Validation RMSE: 15.659314606027692, Validation MSE: 245.2141339305522\n",
      "For Validation - Average RMSE: 16.496527197886877, RMSE Variance: 1.0194279760515688\n",
      "For Training - Average RMSE: 16.502311660962423, RMSE Variance: 0.06453214850134735\n",
      "\n",
      "Learning Rate: 0.01\n",
      "Validation RMSE: 7.123179491114825, Validation MSE: 50.73968606263885\n",
      "Validation RMSE: 9.260444732600645, Validation MSE: 85.75583664555103\n",
      "Validation RMSE: 7.6541923493368405, Validation MSE: 58.586660520646625\n",
      "Validation RMSE: 11.779289135520894, Validation MSE: 138.75165253820057\n",
      "Validation RMSE: 7.709911545610658, Validation MSE: 59.44273604114053\n",
      "For Validation - Average RMSE: 8.705403450836773, RMSE Variance: 2.8712651197947343\n",
      "For Training - Average RMSE: 8.785781139555151, RMSE Variance: 0.21633424581739652\n",
      "\n",
      "Learning Rate: 0.1\n",
      "Validation RMSE: 7.138223284649192, Validation MSE: 50.954231661507905\n",
      "Validation RMSE: 9.26195541669074, Validation MSE: 85.78381814076691\n",
      "Validation RMSE: 7.6810808405147775, Validation MSE: 58.9990028785232\n",
      "Validation RMSE: 11.749649897468515, Validation MSE: 138.0542727130819\n",
      "Validation RMSE: 7.68764414330422, Validation MSE: 59.09987247407967\n",
      "For Validation - Average RMSE: 8.703710716525489, RMSE Variance: 2.823659336631281\n",
      "For Training - Average RMSE: 8.778941029351845, RMSE Variance: 0.21652764713063033\n",
      "\n",
      "Learning Rate: 1\n",
      "Validation RMSE: 117.71841991951976, Validation MSE: 13857.626388348386\n",
      "Validation RMSE: 111.74338539535451, Validation MSE: 12486.584179614727\n",
      "Validation RMSE: 130.16518411101674, Validation MSE: 16942.975154654883\n",
      "Validation RMSE: 128.58805937700998, Validation MSE: 16534.889014345445\n",
      "Validation RMSE: 134.6723241294322, Validation MSE: 18136.63488642285\n",
      "For Validation - Average RMSE: 124.57747458646664, RMSE Variance: 72.19475033551696\n",
      "For Training - Average RMSE: 126.2045120198442, RMSE Variance: 230.68650614413235\n",
      "\n",
      "Learning Rate: 10\n",
      "Validation RMSE: 104184210.5142754, Validation MSE: 1.0854349720482852e+16\n",
      "Validation RMSE: 100176367.54662058, Validation MSE: 1.0035304614835616e+16\n",
      "Validation RMSE: 111278854.62858762, Validation MSE: 1.2382983487450336e+16\n",
      "Validation RMSE: 103608006.5948362, Validation MSE: 1.0734619030555622e+16\n",
      "Validation RMSE: 113182584.1159316, Validation MSE: 1.2810297347159932e+16\n",
      "For Validation - Average RMSE: 106486004.68005028, RMSE Variance: 24241647377181.82\n",
      "For Training - Average RMSE: 107607305.64109787, RMSE Variance: 77049656122183.4\n",
      "\n"
     ]
    }
   ],
   "source": [
    "for learning_rate in learning_rates:\n",
    "    valRMSEs = []\n",
    "    valMSEs = []\n",
    "    trainRMSEs = []\n",
    "    trainMSEs = []\n",
    "    print(f'Learning Rate: {learning_rate}')\n",
    "    for fold in five_folds:\n",
    "        X_train, y_train, X_test, y_test = fold\n",
    "\n",
    "        standard_scaler = StandardScaler()\n",
    "        X_train = standard_scaler.fit_transform(X_train)\n",
    "        X_test = standard_scaler.transform(X_test) \n",
    "\n",
    "        X_train = add_ones(X_train)\n",
    "        X_test = add_ones(X_test)\n",
    "\n",
    "        LR = LinearRegression(learning_rate=learning_rate, epochs=1000, early_stopping=True)\n",
    "        LR.fit(X_train, y_train)\n",
    "        params = LR.get_params()\n",
    "\n",
    "        rmse_val, mse_val = evaluate_model(X_test, y_test, params)\n",
    "\n",
    "        valRMSEs.append(rmse_val)\n",
    "        valMSEs.append(mse_val)\n",
    "\n",
    "        rmse_train, mse_train = evaluate_model(X_train, y_train, params)\n",
    "        trainMSEs.append(mse_train)\n",
    "        trainRMSEs.append(rmse_train)\n",
    "        print(f\"Validation RMSE: {rmse_val}, Validation MSE: {mse_val}\")\n",
    "        # print(f\"Training RMSE: {rmse_train}, Training MSE: {mse_train}\")\n",
    "    print(f\"For Validation - Average RMSE: {np.mean(valRMSEs)}, RMSE Variance: {np.var(valRMSEs)}\")\n",
    "    # print(f\"For Validation - Average MSE: {np.mean(mse_val)}, MSE Variance: {np.var(mse_val)}\")\n",
    "    print(f\"For Training - Average RMSE: {np.mean(trainRMSEs)}, RMSE Variance: {np.var(trainRMSEs)}\")\n",
    "    # print(f\"For Training - Average MSE: {np.mean(mse_train)}, MSE Variance: {np.var(mse_train)}\")\n",
    "    print()"
   ]
  },
  {
   "cell_type": "markdown",
   "metadata": {},
   "source": [
    "## As we can see a LR of 0.1 performs the best so we'll plot that and have a look"
   ]
  },
  {
   "cell_type": "code",
   "execution_count": 52,
   "metadata": {},
   "outputs": [
    {
     "name": "stdout",
     "output_type": "stream",
     "text": [
      "\n"
     ]
    }
   ],
   "source": [
    "all_trainRMSEs = []\n",
    "all_valRMSEs = []\n",
    "RMSEs = []\n",
    "MSEs = []\n",
    "for fold in five_folds:\n",
    "    X_train, y_train, X_test, y_test = fold\n",
    "    standard_scaler = StandardScaler()\n",
    "    X_train = standard_scaler.fit_transform(X_train)\n",
    "    X_test = standard_scaler.transform(X_test) \n",
    "    X_train = add_ones(X_train)\n",
    "    X_test = add_ones(X_test)\n",
    "    LR = LinearRegression(learning_rate=0.1, epochs=1000, early_stopping=True)\n",
    "    LR.fit(X_train, y_train, X_test, y_test)\n",
    "    params = LR.get_params()\n",
    "    all_trainRMSEs.append(LR.get_trainRMSEs())\n",
    "    all_valRMSEs.append(LR.get_valRMSEs())\n",
    "print()"
   ]
  },
  {
   "cell_type": "code",
   "execution_count": 53,
   "metadata": {},
   "outputs": [
    {
     "data": {
      "text/plain": [
       "<module 'matplotlib.pyplot' from 'C:\\\\Users\\\\ASUS\\\\AppData\\\\Local\\\\Packages\\\\PythonSoftwareFoundation.Python.3.9_qbz5n2kfra8p0\\\\LocalCache\\\\local-packages\\\\Python39\\\\site-packages\\\\matplotlib\\\\pyplot.py'>"
      ]
     },
     "execution_count": 53,
     "metadata": {},
     "output_type": "execute_result"
    },
    {
     "data": {
      "image/png": "[encoded data removed]",
      "text/plain": [
       "<Figure size 432x288 with 1 Axes>"
      ]
     },
     "metadata": {
      "needs_background": "light"
     },
     "output_type": "display_data"
    }
   ],
   "source": [
    "plot_RMSEs(all_trainRMSEs, \"Train K = 5\", \"Iterations\", \"RMSE\")"
   ]
  },
  {
   "cell_type": "code",
   "execution_count": 54,
   "metadata": {},
   "outputs": [
    {
     "data": {
      "text/plain": [
       "<module 'matplotlib.pyplot' from 'C:\\\\Users\\\\ASUS\\\\AppData\\\\Local\\\\Packages\\\\PythonSoftwareFoundation.Python.3.9_qbz5n2kfra8p0\\\\LocalCache\\\\local-packages\\\\Python39\\\\site-packages\\\\matplotlib\\\\pyplot.py'>"
      ]
     },
     "execution_count": 54,
     "metadata": {},
     "output_type": "execute_result"
    },
    {
     "data": {
      "image/png": "[encoded data removed]",
      "text/plain": [
       "<Figure size 432x288 with 1 Axes>"
      ]
     },
     "metadata": {
      "needs_background": "light"
     },
     "output_type": "display_data"
    }
   ],
   "source": [
    "plot_RMSEs(all_trainRMSEs, \"Validation K = 5\", \"Iterations\", \"RMSE\")"
   ]
  },
  {
   "cell_type": "markdown",
   "metadata": {},
   "source": [
    "K = 5 with all LRs (except 0.1 which is plotted above)"
   ]
  },
  {
   "cell_type": "code",
   "execution_count": 63,
   "metadata": {},
   "outputs": [
    {
     "name": "stdout",
     "output_type": "stream",
     "text": [
      "\n"
     ]
    }
   ],
   "source": [
    "all_trainRMSEs = []\n",
    "all_valRMSEs = []\n",
    "RMSEs = []\n",
    "MSEs = []\n",
    "for fold in five_folds:\n",
    "    X_train, y_train, X_test, y_test = fold\n",
    "    standard_scaler = StandardScaler()\n",
    "    X_train = standard_scaler.fit_transform(X_train)\n",
    "    X_test = standard_scaler.transform(X_test) \n",
    "    X_train = add_ones(X_train)\n",
    "    X_test = add_ones(X_test)\n",
    "    LR = LinearRegression(learning_rate=0.0001, epochs=1000, early_stopping=True)\n",
    "    LR.fit(X_train, y_train, X_test, y_test)\n",
    "    params = LR.get_params()\n",
    "    all_trainRMSEs.append(LR.get_trainRMSEs())\n",
    "    all_valRMSEs.append(LR.get_valRMSEs())\n",
    "print()"
   ]
  },
  {
   "cell_type": "code",
   "execution_count": 64,
   "metadata": {},
   "outputs": [
    {
     "data": {
      "text/plain": [
       "<module 'matplotlib.pyplot' from 'C:\\\\Users\\\\ASUS\\\\AppData\\\\Local\\\\Packages\\\\PythonSoftwareFoundation.Python.3.9_qbz5n2kfra8p0\\\\LocalCache\\\\local-packages\\\\Python39\\\\site-packages\\\\matplotlib\\\\pyplot.py'>"
      ]
     },
     "execution_count": 64,
     "metadata": {},
     "output_type": "execute_result"
    },
    {
     "data": {
      "image/png": "[encoded data removed]",
      "text/plain": [
       "<Figure size 432x288 with 1 Axes>"
      ]
     },
     "metadata": {
      "needs_background": "light"
     },
     "output_type": "display_data"
    }
   ],
   "source": [
    "plot_RMSEs(all_trainRMSEs, \"Train K = 5\", \"Iterations\", \"RMSE\")"
   ]
  },
  {
   "cell_type": "code",
   "execution_count": 65,
   "metadata": {},
   "outputs": [
    {
     "data": {
      "text/plain": [
       "<module 'matplotlib.pyplot' from 'C:\\\\Users\\\\ASUS\\\\AppData\\\\Local\\\\Packages\\\\PythonSoftwareFoundation.Python.3.9_qbz5n2kfra8p0\\\\LocalCache\\\\local-packages\\\\Python39\\\\site-packages\\\\matplotlib\\\\pyplot.py'>"
      ]
     },
     "execution_count": 65,
     "metadata": {},
     "output_type": "execute_result"
    },
    {
     "data": {
      "image/png": "[encoded data removed]",
      "text/plain": [
       "<Figure size 432x288 with 1 Axes>"
      ]
     },
     "metadata": {
      "needs_background": "light"
     },
     "output_type": "display_data"
    }
   ],
   "source": [
    "plot_RMSEs(all_valRMSEs, \"Validation K = 5\", \"Iterations\", \"RMSE\")"
   ]
  },
  {
   "cell_type": "code",
   "execution_count": 66,
   "metadata": {},
   "outputs": [
    {
     "name": "stdout",
     "output_type": "stream",
     "text": [
      "\n"
     ]
    }
   ],
   "source": [
    "all_trainRMSEs = []\n",
    "all_valRMSEs = []\n",
    "RMSEs = []\n",
    "MSEs = []\n",
    "for fold in five_folds:\n",
    "    X_train, y_train, X_test, y_test = fold\n",
    "    standard_scaler = StandardScaler()\n",
    "    X_train = standard_scaler.fit_transform(X_train)\n",
    "    X_test = standard_scaler.transform(X_test) \n",
    "    X_train = add_ones(X_train)\n",
    "    X_test = add_ones(X_test)\n",
    "    LR = LinearRegression(learning_rate=0.001, epochs=1000, early_stopping=True)\n",
    "    LR.fit(X_train, y_train, X_test, y_test)\n",
    "    params = LR.get_params()\n",
    "    all_trainRMSEs.append(LR.get_trainRMSEs())\n",
    "    all_valRMSEs.append(LR.get_valRMSEs())\n",
    "print()"
   ]
  },
  {
   "cell_type": "code",
   "execution_count": 67,
   "metadata": {},
   "outputs": [
    {
     "data": {
      "text/plain": [
       "<module 'matplotlib.pyplot' from 'C:\\\\Users\\\\ASUS\\\\AppData\\\\Local\\\\Packages\\\\PythonSoftwareFoundation.Python.3.9_qbz5n2kfra8p0\\\\LocalCache\\\\local-packages\\\\Python39\\\\site-packages\\\\matplotlib\\\\pyplot.py'>"
      ]
     },
     "execution_count": 67,
     "metadata": {},
     "output_type": "execute_result"
    },
    {
     "data": {
      "image/png": "[encoded data removed]",
      "text/plain": [
       "<Figure size 432x288 with 1 Axes>"
      ]
     },
     "metadata": {
      "needs_background": "light"
     },
     "output_type": "display_data"
    }
   ],
   "source": [
    "plot_RMSEs(all_trainRMSEs, \"Train K = 5\", \"Iterations\", \"RMSE\")"
   ]
  },
  {
   "cell_type": "code",
   "execution_count": 68,
   "metadata": {},
   "outputs": [
    {
     "data": {
      "text/plain": [
       "<module 'matplotlib.pyplot' from 'C:\\\\Users\\\\ASUS\\\\AppData\\\\Local\\\\Packages\\\\PythonSoftwareFoundation.Python.3.9_qbz5n2kfra8p0\\\\LocalCache\\\\local-packages\\\\Python39\\\\site-packages\\\\matplotlib\\\\pyplot.py'>"
      ]
     },
     "execution_count": 68,
     "metadata": {},
     "output_type": "execute_result"
    },
    {
     "data": {
      "image/png": "[encoded data removed]",
      "text/plain": [
       "<Figure size 432x288 with 1 Axes>"
      ]
     },
     "metadata": {
      "needs_background": "light"
     },
     "output_type": "display_data"
    }
   ],
   "source": [
    "plot_RMSEs(all_valRMSEs, \"Validation K = 5\", \"Iterations\", \"RMSE\")"
   ]
  },
  {
   "cell_type": "code",
   "execution_count": 71,
   "metadata": {},
   "outputs": [
    {
     "name": "stdout",
     "output_type": "stream",
     "text": [
      "\n"
     ]
    }
   ],
   "source": [
    "all_trainRMSEs = []\n",
    "all_valRMSEs = []\n",
    "RMSEs = []\n",
    "MSEs = []\n",
    "for fold in five_folds:\n",
    "    X_train, y_train, X_test, y_test = fold\n",
    "    standard_scaler = StandardScaler()\n",
    "    X_train = standard_scaler.fit_transform(X_train)\n",
    "    X_test = standard_scaler.transform(X_test) \n",
    "    X_train = add_ones(X_train)\n",
    "    X_test = add_ones(X_test)\n",
    "    LR = LinearRegression(learning_rate=0.01, epochs=1000, early_stopping=True)\n",
    "    LR.fit(X_train, y_train, X_test, y_test)\n",
    "    params = LR.get_params()\n",
    "    all_trainRMSEs.append(LR.get_trainRMSEs())\n",
    "    all_valRMSEs.append(LR.get_valRMSEs())\n",
    "print()"
   ]
  },
  {
   "cell_type": "code",
   "execution_count": 72,
   "metadata": {},
   "outputs": [
    {
     "data": {
      "text/plain": [
       "<module 'matplotlib.pyplot' from 'C:\\\\Users\\\\ASUS\\\\AppData\\\\Local\\\\Packages\\\\PythonSoftwareFoundation.Python.3.9_qbz5n2kfra8p0\\\\LocalCache\\\\local-packages\\\\Python39\\\\site-packages\\\\matplotlib\\\\pyplot.py'>"
      ]
     },
     "execution_count": 72,
     "metadata": {},
     "output_type": "execute_result"
    },
    {
     "data": {
      "image/png": "[encoded data removed]",
      "text/plain": [
       "<Figure size 432x288 with 1 Axes>"
      ]
     },
     "metadata": {
      "needs_background": "light"
     },
     "output_type": "display_data"
    }
   ],
   "source": [
    "plot_RMSEs(all_trainRMSEs, \"Train K = 5\", \"Iterations\", \"RMSE\")"
   ]
  },
  {
   "cell_type": "code",
   "execution_count": 73,
   "metadata": {},
   "outputs": [
    {
     "data": {
      "text/plain": [
       "<module 'matplotlib.pyplot' from 'C:\\\\Users\\\\ASUS\\\\AppData\\\\Local\\\\Packages\\\\PythonSoftwareFoundation.Python.3.9_qbz5n2kfra8p0\\\\LocalCache\\\\local-packages\\\\Python39\\\\site-packages\\\\matplotlib\\\\pyplot.py'>"
      ]
     },
     "execution_count": 73,
     "metadata": {},
     "output_type": "execute_result"
    },
    {
     "data": {
      "image/png": "[encoded data removed]",
      "text/plain": [
       "<Figure size 432x288 with 1 Axes>"
      ]
     },
     "metadata": {
      "needs_background": "light"
     },
     "output_type": "display_data"
    }
   ],
   "source": [
    "plot_RMSEs(all_valRMSEs, \"Validation K = 5\", \"Iterations\", \"RMSE\")"
   ]
  },
  {
   "cell_type": "code",
   "execution_count": 76,
   "metadata": {},
   "outputs": [
    {
     "name": "stdout",
     "output_type": "stream",
     "text": [
      "\n"
     ]
    }
   ],
   "source": [
    "all_trainRMSEs = []\n",
    "all_valRMSEs = []\n",
    "RMSEs = []\n",
    "MSEs = []\n",
    "for fold in five_folds:\n",
    "    X_train, y_train, X_test, y_test = fold\n",
    "    standard_scaler = StandardScaler()\n",
    "    X_train = standard_scaler.fit_transform(X_train)\n",
    "    X_test = standard_scaler.transform(X_test) \n",
    "    X_train = add_ones(X_train)\n",
    "    X_test = add_ones(X_test)\n",
    "    LR = LinearRegression(learning_rate=1, epochs=1000, early_stopping=True)\n",
    "    LR.fit(X_train, y_train, X_test, y_test)\n",
    "    params = LR.get_params()\n",
    "    all_trainRMSEs.append(LR.get_trainRMSEs())\n",
    "    all_valRMSEs.append(LR.get_valRMSEs())\n",
    "print()"
   ]
  },
  {
   "cell_type": "code",
   "execution_count": 77,
   "metadata": {},
   "outputs": [
    {
     "data": {
      "text/plain": [
       "<module 'matplotlib.pyplot' from 'C:\\\\Users\\\\ASUS\\\\AppData\\\\Local\\\\Packages\\\\PythonSoftwareFoundation.Python.3.9_qbz5n2kfra8p0\\\\LocalCache\\\\local-packages\\\\Python39\\\\site-packages\\\\matplotlib\\\\pyplot.py'>"
      ]
     },
     "execution_count": 77,
     "metadata": {},
     "output_type": "execute_result"
    },
    {
     "data": {
      "image/png": "[encoded data removed]",
      "text/plain": [
       "<Figure size 432x288 with 1 Axes>"
      ]
     },
     "metadata": {
      "needs_background": "light"
     },
     "output_type": "display_data"
    }
   ],
   "source": [
    "plot_RMSEs(all_trainRMSEs, \"Train K = 5\", \"Iterations\", \"RMSE\")"
   ]
  },
  {
   "cell_type": "code",
   "execution_count": 78,
   "metadata": {},
   "outputs": [
    {
     "data": {
      "text/plain": [
       "<module 'matplotlib.pyplot' from 'C:\\\\Users\\\\ASUS\\\\AppData\\\\Local\\\\Packages\\\\PythonSoftwareFoundation.Python.3.9_qbz5n2kfra8p0\\\\LocalCache\\\\local-packages\\\\Python39\\\\site-packages\\\\matplotlib\\\\pyplot.py'>"
      ]
     },
     "execution_count": 78,
     "metadata": {},
     "output_type": "execute_result"
    },
    {
     "data": {
      "image/png": "[encoded data removed]",
      "text/plain": [
       "<Figure size 432x288 with 1 Axes>"
      ]
     },
     "metadata": {
      "needs_background": "light"
     },
     "output_type": "display_data"
    }
   ],
   "source": [
    "plot_RMSEs(all_valRMSEs, \"Validation K = 5\", \"Iterations\", \"RMSE\")"
   ]
  },
  {
   "cell_type": "code",
   "execution_count": 79,
   "metadata": {},
   "outputs": [
    {
     "name": "stdout",
     "output_type": "stream",
     "text": [
      "\n"
     ]
    }
   ],
   "source": [
    "all_trainRMSEs = []\n",
    "all_valRMSEs = []\n",
    "RMSEs = []\n",
    "MSEs = []\n",
    "for fold in five_folds:\n",
    "    X_train, y_train, X_test, y_test = fold\n",
    "    standard_scaler = StandardScaler()\n",
    "    X_train = standard_scaler.fit_transform(X_train)\n",
    "    X_test = standard_scaler.transform(X_test) \n",
    "    X_train = add_ones(X_train)\n",
    "    X_test = add_ones(X_test)\n",
    "    LR = LinearRegression(learning_rate=10, epochs=1000, early_stopping=True)\n",
    "    LR.fit(X_train, y_train, X_test, y_test)\n",
    "    params = LR.get_params()\n",
    "    all_trainRMSEs.append(LR.get_trainRMSEs())\n",
    "    all_valRMSEs.append(LR.get_valRMSEs())\n",
    "print()"
   ]
  },
  {
   "cell_type": "code",
   "execution_count": 80,
   "metadata": {},
   "outputs": [
    {
     "data": {
      "text/plain": [
       "<module 'matplotlib.pyplot' from 'C:\\\\Users\\\\ASUS\\\\AppData\\\\Local\\\\Packages\\\\PythonSoftwareFoundation.Python.3.9_qbz5n2kfra8p0\\\\LocalCache\\\\local-packages\\\\Python39\\\\site-packages\\\\matplotlib\\\\pyplot.py'>"
      ]
     },
     "execution_count": 80,
     "metadata": {},
     "output_type": "execute_result"
    },
    {
     "data": {
      "image/png": "[encoded data removed]",
      "text/plain": [
       "<Figure size 432x288 with 1 Axes>"
      ]
     },
     "metadata": {
      "needs_background": "light"
     },
     "output_type": "display_data"
    }
   ],
   "source": [
    "plot_RMSEs(all_trainRMSEs, \"Train K = 5\", \"Iterations\", \"RMSE\")"
   ]
  },
  {
   "cell_type": "code",
   "execution_count": 81,
   "metadata": {},
   "outputs": [
    {
     "data": {
      "text/plain": [
       "<module 'matplotlib.pyplot' from 'C:\\\\Users\\\\ASUS\\\\AppData\\\\Local\\\\Packages\\\\PythonSoftwareFoundation.Python.3.9_qbz5n2kfra8p0\\\\LocalCache\\\\local-packages\\\\Python39\\\\site-packages\\\\matplotlib\\\\pyplot.py'>"
      ]
     },
     "execution_count": 81,
     "metadata": {},
     "output_type": "execute_result"
    },
    {
     "data": {
      "image/png": "[encoded data removed]",
      "text/plain": [
       "<Figure size 432x288 with 1 Axes>"
      ]
     },
     "metadata": {
      "needs_background": "light"
     },
     "output_type": "display_data"
    }
   ],
   "source": [
    "plot_RMSEs(all_valRMSEs, \"Validation K = 5\", \"Iterations\", \"RMSE\")"
   ]
  },
  {
   "cell_type": "markdown",
   "metadata": {},
   "source": [
    "Train-Test RMSEs for K = 5"
   ]
  },
  {
   "cell_type": "code",
   "execution_count": 82,
   "metadata": {},
   "outputs": [
    {
     "name": "stdout",
     "output_type": "stream",
     "text": [
      "Learning Rate: 0.0001\n",
      "Average Val RMSE: 36.01279685780399, RMSE Variance: 0.5098530038628459\n",
      "Average Train RMSE: 36.01050563258034, RMSE Variance: 0.033575947123506984\n",
      "\n",
      "Learning Rate: 0.001\n",
      "Average Val RMSE: 16.496527197886877, RMSE Variance: 1.0194279760515688\n",
      "Average Train RMSE: 16.502311660962423, RMSE Variance: 0.06453214850134735\n",
      "\n",
      "Learning Rate: 0.01\n",
      "Average Val RMSE: 8.705403450836773, RMSE Variance: 2.8712651197947343\n",
      "Average Train RMSE: 8.785781139555151, RMSE Variance: 0.21633424581739652\n",
      "\n",
      "Learning Rate: 0.1\n",
      "Average Val RMSE: 8.703710716525489, RMSE Variance: 2.823659336631281\n",
      "Average Train RMSE: 8.778941029351845, RMSE Variance: 0.21652764713063033\n",
      "\n",
      "Learning Rate: 1\n",
      "Average Val RMSE: 124.57747458646664, RMSE Variance: 72.19475033551696\n",
      "Average Train RMSE: 126.2045120198442, RMSE Variance: 230.68650614413235\n",
      "\n",
      "Learning Rate: 10\n",
      "Average Val RMSE: 106486004.68005028, RMSE Variance: 24241647377181.82\n",
      "Average Train RMSE: 107607305.64109787, RMSE Variance: 77049656122183.4\n",
      "\n"
     ]
    }
   ],
   "source": [
    "for learning_rate in learning_rates:\n",
    "    val_RMSEs = []\n",
    "    val_MSEs = []\n",
    "    train_RMSEs = []\n",
    "    train_MSEs = []\n",
    "    print(f'Learning Rate: {learning_rate}')\n",
    "    for fold in five_folds:\n",
    "        X_train, y_train, X_test, y_test = fold\n",
    "\n",
    "        standard_scaler = StandardScaler()\n",
    "        X_train = standard_scaler.fit_transform(X_train)\n",
    "        X_test = standard_scaler.transform(X_test) \n",
    "\n",
    "        X_train = add_ones(X_train)\n",
    "        X_test = add_ones(X_test)\n",
    "\n",
    "        LR = LinearRegression(learning_rate=learning_rate, epochs=1000, early_stopping=True)\n",
    "        LR.fit(X_train, y_train)\n",
    "        params = LR.get_params()\n",
    "\n",
    "        val_RMSE, val_MSE = evaluate_model(X_test, y_test, params)\n",
    "\n",
    "        val_RMSEs.append(val_RMSE)\n",
    "        val_MSEs.append(val_MSE)\n",
    "\n",
    "        train_RMSE, train_MSE = evaluate_model(X_train, y_train, params)\n",
    "\n",
    "        train_RMSEs.append(train_RMSE)\n",
    "        train_MSEs.append(train_MSE)\n",
    "\n",
    "        # print('RMSE: {}, MSE: {}'.format(rmse, mse))\n",
    "    print(f\"Average Val RMSE: {np.mean(val_RMSEs)}, RMSE Variance: {np.var(val_RMSEs)}\")\n",
    "    print(f\"Average Train RMSE: {np.mean(train_RMSEs)}, RMSE Variance: {np.var(train_RMSEs)}\")\n",
    "    print()"
   ]
  },
  {
   "cell_type": "markdown",
   "metadata": {},
   "source": [
    "# Regularization"
   ]
  },
  {
   "cell_type": "code",
   "execution_count": 83,
   "metadata": {},
   "outputs": [],
   "source": [
    "reg_lambdas = [0.001, 0.01, 0.1, 1, 10, 100]"
   ]
  },
  {
   "cell_type": "markdown",
   "metadata": {},
   "source": [
    "## Ridge"
   ]
  },
  {
   "cell_type": "code",
   "execution_count": 84,
   "metadata": {},
   "outputs": [
    {
     "name": "stdout",
     "output_type": "stream",
     "text": [
      "reg_lambda: 0.001\n",
      "RMSE: 7.145128642003718, MSE: 51.052863310781895\n",
      "RMSE: 9.271127327483907, MSE: 85.95380192241888\n",
      "RMSE: 7.674398197353708, MSE: 58.89638769154583\n",
      "RMSE: 11.744928304511292, MSE: 137.9433408781105\n",
      "RMSE: 7.683865891036609, MSE: 59.04179503143582\n",
      "Average RMSE: 8.703889672477846, RMSE Variance: 2.81994233619207\n",
      "\n",
      "reg_lambda: 0.01\n",
      "RMSE: 7.24005336228657, MSE: 52.41837268875707\n",
      "RMSE: 9.381230653460175, MSE: 88.00748857342083\n",
      "RMSE: 7.651046859199967, MSE: 58.53851804167368\n",
      "RMSE: 11.72634293460031, MSE: 137.50711861985062\n",
      "RMSE: 7.685752320421812, MSE: 59.07078873086927\n",
      "Average RMSE: 8.736885225993767, RMSE Variance: 2.7752938787261368\n",
      "\n",
      "reg_lambda: 0.1\n",
      "RMSE: 9.928747212221872, MSE: 98.58002120420358\n",
      "RMSE: 11.930464919959357, MSE: 142.33599320638083\n",
      "RMSE: 9.591955637962092, MSE: 92.00561296063276\n",
      "RMSE: 13.047843387285372, MSE: 170.24621705912662\n",
      "RMSE: 9.797809881331977, MSE: 95.99707847072655\n",
      "Average RMSE: 10.859364207752135, RMSE Variance: 1.9071935836059317\n",
      "\n",
      "reg_lambda: 1\n",
      "RMSE: 27.13152439824341, MSE: 736.1196161724775\n",
      "RMSE: 28.571393475754693, MSE: 816.3245251463978\n",
      "RMSE: 26.272755069764482, MSE: 690.2576589558353\n",
      "RMSE: 27.731618089288894, MSE: 769.0426418501751\n",
      "RMSE: 26.621687978561617, MSE: 708.714270827892\n",
      "Average RMSE: 27.26579580232262, RMSE Variance: 0.6681218566017744\n",
      "\n",
      "reg_lambda: 10\n",
      "RMSE: 42.01823064079731, MSE: 1765.5317061832382\n",
      "RMSE: 42.75165515653273, MSE: 1827.7040186230915\n",
      "RMSE: 41.24976268511562, MSE: 1701.5429215783568\n",
      "RMSE: 41.95809642967127, MSE: 1760.4818560015929\n",
      "RMSE: 40.75315047065473, MSE: 1660.8192732838259\n",
      "Average RMSE: 41.74617907655433, RMSE Variance: 0.47248764227836026\n",
      "\n",
      "reg_lambda: 100\n",
      "RMSE: 5129760.193262185, MSE: 26314439640377.293\n",
      "RMSE: 5082781.685646037, MSE: 25834669663938.77\n",
      "RMSE: 4951496.065300683, MSE: 24517313284688.14\n",
      "RMSE: 5336819.071815461, MSE: 28481637805293.24\n",
      "RMSE: 5135286.490729465, MSE: 26371167341868.547\n",
      "Average RMSE: 5127228.701350766, RMSE Variance: 15371391278.132935\n",
      "\n"
     ]
    }
   ],
   "source": [
    "for reg_lambda in reg_lambdas:\n",
    "    valRMSEs = []\n",
    "    valMSEs = []\n",
    "    trainRMSEs = []\n",
    "    trainMSEs = []\n",
    "    print(f'Regularization Parameter: {reg_lambda}')\n",
    "    for fold in five_folds:\n",
    "        X_train, y_train, X_test, y_test = fold\n",
    "\n",
    "        standard_scaler = StandardScaler()\n",
    "        X_train = standard_scaler.fit_transform(X_train)\n",
    "        X_test = standard_scaler.transform(X_test) \n",
    "\n",
    "        X_train = add_ones(X_train)\n",
    "        X_test = add_ones(X_test)\n",
    "\n",
    "        LR = LinearRegression(learning_rate=learning_rate, epochs=1000, early_stopping=True, regularization='Ridge', reg_lambda=reg_lambda)\n",
    "        LR.fit(X_train, y_train)\n",
    "        params = LR.get_params()\n",
    "\n",
    "        rmse_val, mse_val = evaluate_model(X_test, y_test, params)\n",
    "\n",
    "        valRMSEs.append(rmse_val)\n",
    "        valMSEs.append(mse_val)\n",
    "\n",
    "        rmse_train, mse_train = evaluate_model(X_train, y_train, params)\n",
    "        trainMSEs.append(mse_train)\n",
    "        trainRMSEs.append(rmse_train)\n",
    "        print(f\"Validation RMSE: {rmse_val}, Validation MSE: {mse_val}\")\n",
    "        # print(f\"Training RMSE: {rmse_train}, Training MSE: {mse_train}\")\n",
    "    print(f\"For Validation - Average RMSE: {np.mean(valRMSEs)}, RMSE Variance: {np.var(valRMSEs)}\")\n",
    "    # print(f\"For Validation - Average MSE: {np.mean(mse_val)}, MSE Variance: {np.var(mse_val)}\")\n",
    "    print(f\"For Training - Average RMSE: {np.mean(trainRMSEs)}, RMSE Variance: {np.var(trainRMSEs)}\")\n",
    "    # print(f\"For Training - Average MSE: {np.mean(mse_train)}, MSE Variance: {np.var(mse_train)}\")\n",
    "    print()"
   ]
  },
  {
   "cell_type": "markdown",
   "metadata": {},
   "source": [
    "## Lasso"
   ]
  },
  {
   "cell_type": "code",
   "execution_count": 30,
   "metadata": {},
   "outputs": [
    {
     "name": "stdout",
     "output_type": "stream",
     "text": [
      "reg_lambda: 0.001\n",
      "RMSE: 7.138458135167153, MSE: 50.957584547534104\n",
      "RMSE: 9.261886465846922, MSE: 85.78254090623838\n",
      "RMSE: 7.680602382840842, MSE: 58.991652963300425\n",
      "RMSE: 11.749534935659145, MSE: 138.05157120427475\n",
      "RMSE: 7.687553348823442, MSE: 59.09847649100653\n",
      "Average RMSE: 8.7036070536675, RMSE Variance: 2.8235894778201622\n",
      "\n",
      "reg_lambda: 0.01\n",
      "RMSE: 7.140616018699864, MSE: 50.98839712651311\n",
      "RMSE: 9.261311921952696, MSE: 85.77189851570314\n",
      "RMSE: 7.676440562574069, MSE: 58.92773971073249\n",
      "RMSE: 11.748515918280695, MSE: 138.02762628209487\n",
      "RMSE: 7.686836335325262, MSE: 59.08745284607671\n",
      "Average RMSE: 8.702744151366518, RMSE Variance: 2.822867132079941\n",
      "\n",
      "reg_lambda: 0.1\n",
      "RMSE: 7.170115959910152, MSE: 51.41056287855828\n",
      "RMSE: 9.260417970213503, MSE: 85.75534098305316\n",
      "RMSE: 7.650324893571293, MSE: 58.527470977196614\n",
      "RMSE: 11.739875387397467, MSE: 137.82467411162082\n",
      "RMSE: 7.686377357335927, MSE: 59.08039687936644\n",
      "Average RMSE: 8.701422313685669, RMSE Variance: 2.8049388848522137\n",
      "\n",
      "reg_lambda: 1\n",
      "RMSE: 7.85798053582691, MSE: 61.74785810143458\n",
      "RMSE: 9.494555831260822, MSE: 90.14659043292889\n",
      "RMSE: 7.7971484100479955, MSE: 60.79552332831398\n",
      "RMSE: 11.83465266395028, MSE: 140.05900367634544\n",
      "RMSE: 7.945761274837436, MSE: 63.135122236706245\n",
      "Average RMSE: 8.98601974318469, RMSE Variance: 2.428268730240807\n",
      "\n",
      "reg_lambda: 10\n",
      "RMSE: 18.250369451533302, MSE: 333.07598511745994\n",
      "RMSE: 19.86101174885034, MSE: 394.4597876879713\n",
      "RMSE: 15.843729641778783, MSE: 251.02376896177964\n",
      "RMSE: 18.325585566482967, MSE: 335.8270863544889\n",
      "RMSE: 16.99801665645769, MSE: 288.93257025321304\n",
      "Average RMSE: 17.855742613020617, RMSE Variance: 1.8362954125422426\n",
      "\n",
      "reg_lambda: 100\n",
      "RMSE: 39.00086651724955, MSE: 1521.067589096317\n",
      "RMSE: 38.84026223201867, MSE: 1508.5659702519758\n",
      "RMSE: 38.38344351327622, MSE: 1473.288735936866\n",
      "RMSE: 38.58729937684019, MSE: 1488.9796731978918\n",
      "RMSE: 37.14915576212626, MSE: 1380.059773838719\n",
      "Average RMSE: 38.39220548030218, RMSE Variance: 0.43090682260927016\n",
      "\n"
     ]
    }
   ],
   "source": [
    "for reg_lambda in reg_lambdas:\n",
    "    RMSEs = []\n",
    "    MSEs = []\n",
    "    print(f'reg_lambda: {reg_lambda}')\n",
    "    for fold in five_folds:\n",
    "        X_train, y_train, X_test, y_test = fold\n",
    "\n",
    "        standard_scaler = StandardScaler()\n",
    "        X_train = standard_scaler.fit_transform(X_train)\n",
    "        X_test = standard_scaler.transform(X_test) \n",
    "\n",
    "        X_train = add_ones(X_train)\n",
    "        X_test = add_ones(X_test)\n",
    "\n",
    "        LR = LinearRegression(learning_rate=0.1, epochs=1000, early_stopping=True, regularization='Lasso', reg_lambda=reg_lambda)\n",
    "        LR.fit(X_train, y_train)\n",
    "        params = LR.get_params()\n",
    "\n",
    "        rmse, mse = evaluate_model(X_test, y_test, params)\n",
    "\n",
    "        RMSEs.append(rmse)\n",
    "        MSEs.append(mse)\n",
    "\n",
    "        print('RMSE: {}, MSE: {}'.format(rmse, mse))\n",
    "    print(f\"Average RMSE: {np.mean(RMSEs)}, RMSE Variance: {np.var(RMSEs)}\")\n",
    "    print()"
   ]
  },
  {
   "cell_type": "markdown",
   "metadata": {},
   "source": [
    "# Normal Form"
   ]
  },
  {
   "cell_type": "markdown",
   "metadata": {},
   "source": [
    "K = 2"
   ]
  },
  {
   "cell_type": "code",
   "execution_count": 31,
   "metadata": {},
   "outputs": [
    {
     "name": "stdout",
     "output_type": "stream",
     "text": [
      "RMSE: 8.175738783272324, MSE: 66.84270465230323\n",
      "RMSE: 9.633509564838526, MSE: 92.80450653583539\n",
      "Average RMSE: 8.904624174055424, Average MSE: 79.8236055940693\n"
     ]
    }
   ],
   "source": [
    "RMSEs = []\n",
    "MSEs = []\n",
    "for fold in two_folds:\n",
    "    X_train, y_train, X_test, y_test = fold\n",
    "    params = solveNormalEquation(X_train, y_train)\n",
    "    rmse, mse = evaluate_model(X_test, y_test, params)\n",
    "    RMSEs.append(rmse)\n",
    "    MSEs.append(mse)\n",
    "    print('RMSE: {}, MSE: {}'.format(rmse, mse))\n",
    "print(f\"Average RMSE: {np.mean(RMSEs)}, Average MSE: {np.mean(MSEs)}\")"
   ]
  },
  {
   "cell_type": "markdown",
   "metadata": {},
   "source": [
    "K = 3"
   ]
  },
  {
   "cell_type": "code",
   "execution_count": 32,
   "metadata": {},
   "outputs": [
    {
     "name": "stdout",
     "output_type": "stream",
     "text": [
      "RMSE: 8.272138626719427, MSE: 68.42827745966356\n",
      "RMSE: 10.147518357987865, MSE: 102.97212882570075\n",
      "RMSE: 8.150592907894223, MSE: 66.43216475021562\n",
      "Average RMSE: 8.856749964200505, Average MSE: 79.27752367852663\n"
     ]
    }
   ],
   "source": [
    "RMSEs = []\n",
    "MSEs = []\n",
    "for fold in three_folds:\n",
    "    X_train, y_train, X_test, y_test = fold\n",
    "    params = solveNormalEquation(X_train, y_train)\n",
    "    rmse, mse = evaluate_model(X_test, y_test, params)\n",
    "    RMSEs.append(rmse)\n",
    "    MSEs.append(mse)\n",
    "    print('RMSE: {}, MSE: {}'.format(rmse, mse))\n",
    "print(f\"Average RMSE: {np.mean(RMSEs)}, Average MSE: {np.mean(MSEs)}\")"
   ]
  },
  {
   "cell_type": "markdown",
   "metadata": {},
   "source": [
    "K = 4"
   ]
  },
  {
   "cell_type": "code",
   "execution_count": 33,
   "metadata": {},
   "outputs": [
    {
     "name": "stdout",
     "output_type": "stream",
     "text": [
      "RMSE: 7.0478014080862526, MSE: 49.67150468782256\n",
      "RMSE: 9.159832301542467, MSE: 83.90252779238078\n",
      "RMSE: 10.835062319531874, MSE: 117.39857546813944\n",
      "RMSE: 8.291573047758881, MSE: 68.7501836063215\n",
      "Average RMSE: 8.833567269229869, Average MSE: 79.93069788866607\n"
     ]
    }
   ],
   "source": [
    "RMSEs = []\n",
    "MSEs = []\n",
    "for fold in four_folds:\n",
    "    X_train, y_train, X_test, y_test = fold\n",
    "    params = solveNormalEquation(X_train, y_train)\n",
    "    rmse, mse = evaluate_model(X_test, y_test, params)\n",
    "    RMSEs.append(rmse)\n",
    "    MSEs.append(mse)\n",
    "    print('RMSE: {}, MSE: {}'.format(rmse, mse))\n",
    "print(f\"Average RMSE: {np.mean(RMSEs)}, Average MSE: {np.mean(MSEs)}\")"
   ]
  },
  {
   "cell_type": "code",
   "execution_count": 34,
   "metadata": {},
   "outputs": [
    {
     "name": "stdout",
     "output_type": "stream",
     "text": [
      "RMSE: 7.15465365030286, MSE: 51.18906885579204\n",
      "RMSE: 9.266839756448137, MSE: 85.87431907168776\n",
      "RMSE: 7.695705437572973, MSE: 59.22388218189022\n",
      "RMSE: 11.724728270732339, MSE: 137.46925302251015\n",
      "RMSE: 7.693396778376939, MSE: 59.18835398954066\n",
      "Average RMSE: 8.707064778686648, Average MSE: 78.58897542428416\n"
     ]
    }
   ],
   "source": [
    "RMSEs = []\n",
    "MSEs = []\n",
    "for fold in five_folds:\n",
    "    X_train, y_train, X_test, y_test = fold\n",
    "    params = solveNormalEquation(X_train, y_train)\n",
    "    rmse, mse = evaluate_model(X_test, y_test, params)\n",
    "    RMSEs.append(rmse)\n",
    "    MSEs.append(mse)\n",
    "    print('RMSE: {}, MSE: {}'.format(rmse, mse))\n",
    "print(f\"Average RMSE: {np.mean(RMSEs)}, Average MSE: {np.mean(MSEs)}\")"
   ]
  }
 ],
 "metadata": {
  "kernelspec": {
   "display_name": "Python 3.9.13 64-bit (microsoft store)",
   "language": "python",
   "name": "python3"
  },
  "language_info": {
   "codemirror_mode": {
    "name": "ipython",
    "version": 3
   },
   "file_extension": ".py",
   "mimetype": "text/x-python",
   "name": "python",
   "nbconvert_exporter": "python",
   "pygments_lexer": "ipython3",
   "version": "3.9.13"
  },
  "orig_nbformat": 4,
  "vscode": {
   "interpreter": {
    "hash": "a5a87ee616be0254e3f1af9223138e3faeac65b2c9d91bc22a9fc5a4a8bd8eb0"
   }
  }
 },
 "nbformat": 4,
 "nbformat_minor": 2
}
